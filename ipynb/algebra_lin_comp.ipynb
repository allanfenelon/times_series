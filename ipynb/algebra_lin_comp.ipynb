{
 "cells": [
  {
   "cell_type": "code",
   "execution_count": 4,
   "metadata": {},
   "outputs": [],
   "source": [
    "import statsmodels.api as sm\n",
    "from pmdarima import auto_arima\n",
    "import pandas as pd\n",
    "import numpy as np\n",
    "import matplotlib.pyplot as plt\n",
    "import plotly.express as px\n",
    "import seaborn as sns\n",
    "from sklearn.model_selection import train_test_split, TimeSeriesSplit\n",
    "from sklearn.linear_model import LinearRegression\n",
    "from statsmodels.tsa.arima.model import ARIMA\n",
    "from xgboost import XGBRegressor\n",
    "from sklearn.metrics import mean_squared_error\n",
    "import warnings\n",
    "from scipy import stats\n",
    "from sklearn.metrics import mean_absolute_error, mean_squared_error, r2_score\n",
    "import timeseriesmetrics as tss\n",
    "from sklearn.model_selection import train_test_split, TimeSeriesSplit\n",
    "from pmdarima import model_selection\n",
    "import time\n",
    "\n",
    "import timeseriesmetrics as mt\n",
    "\n",
    "warnings.filterwarnings('ignore')\n",
    "\n",
    "# DEFININDO O NOSSO PATH COM OS DADOS\n",
    "DATA_PATH_TSLA = '../bds/TSLA.csv'\n"
   ]
  },
  {
   "cell_type": "code",
   "execution_count": 5,
   "metadata": {},
   "outputs": [],
   "source": [
    "TESLA = pd.read_csv(DATA_PATH_TSLA ,sep=',',usecols=[0,4])"
   ]
  },
  {
   "cell_type": "code",
   "execution_count": 6,
   "metadata": {},
   "outputs": [],
   "source": [
    "from sklearn.metrics import mean_absolute_error, mean_squared_error, r2_score\n",
    "import timeseriesmetrics as tss\n",
    "\n",
    "def calcular_metricas_regressao(y_true, y_pred):\n",
    "    # Certifique-se de que y_true e y_pred são arrays de uma única dimensão\n",
    "    y_true = np.array(y_true).flatten()  \n",
    "    y_pred = np.array(y_pred).flatten()\n",
    "    \n",
    "    # Calcula as métricas\n",
    "    mae = mean_absolute_error(y_true, y_pred)\n",
    "    mse = mean_squared_error(y_true, y_pred)\n",
    "    rmse = mean_squared_error(y_true, y_pred, squared=False)  # Raiz do MSE\n",
    "    mape = tss.mape(y_true, y_pred)\n",
    "    theil = tss.theil(y_true, y_pred)\n",
    "    arv = tss.arv(y_true, y_pred)\n",
    "    wpocid = tss.wpocid(y_true, y_pred)\n",
    "    \n",
    "    # Verifica se há mais de um ponto para calcular o R²\n",
    "    if len(y_true) > 1:\n",
    "        r2 = 1 - (np.sum((y_true - y_pred) ** 2) / np.sum((y_true - np.mean(y_true)) ** 2))  # Coeficiente de determinação\n",
    "    else:\n",
    "        r2 = 'N/A'  # Não aplicável para previsões de um único ponto\n",
    "    \n",
    "    # Cria um DataFrame com as métricas\n",
    "    metrics_df = pd.DataFrame({\n",
    "        'Métrica': ['MAE', 'MSE', 'MAPE','RMSE', 'R²','THEIL','ARV','WPOCID'],\n",
    "        'Valor': [mae, mse, mape, rmse, r2, theil, arv, wpocid]\n",
    "    })\n",
    "    \n",
    "    return metrics_df"
   ]
  },
  {
   "cell_type": "code",
   "execution_count": 7,
   "metadata": {},
   "outputs": [],
   "source": [
    "# acf, ci = sm.tsa.acf(endog, alpha=0.05)\n",
    "def getSignificantLags(y, nLags = 5, alpha=0.05):\n",
    "    pac, pac_ci = sm.tsa.pacf(x=y, nlags=nLags, alpha=alpha)\n",
    "    pd.DataFrame(pac)[1:].plot(kind='bar', legend='pacf',\n",
    "                               xlabel='lag', ylabel='pacf');\n",
    "    significantLags = []\n",
    "    for i in range(1, len(pac)):\n",
    "        # print(pac[i], pac_ci[i][0], pac_ci[i][1])\n",
    "        if pac[i] < pac_ci[i][0] - pac[i] or pac[i] > pac_ci[i][1] - pac[i]:\n",
    "            significantLags.append(i)\n",
    "    print('significantLags:', significantLags)\n",
    "    return significantLags\n",
    "\n",
    "def appendLagVariables(yNm, significantLags, df, dropna=True):\n",
    "    prefix = yNm.replace(')', '')\n",
    "    df = df.copy()\n",
    "    for lag in significantLags:\n",
    "        varNm = '('+prefix+'-'+str(lag)+')'\n",
    "        # nDj = pd.concat([nDj, nDj[['e1(t)']].shift(lag)], axis=1)\n",
    "        df[varNm] = df[yNm].shift(lag)\n",
    "        # nDj.columns = nDj.columns + [varNm]\n",
    "    if dropna:\n",
    "        df.dropna(axis=0, inplace=True)\n",
    "    display(df.head(2))\n",
    "    return df"
   ]
  },
  {
   "cell_type": "code",
   "execution_count": null,
   "metadata": {},
   "outputs": [
    {
     "name": "stdout",
     "output_type": "stream",
     "text": [
      "significantLags: [1, 5, 8, 10, 19, 25, 45, 47, 50, 57, 64, 68]\n"
     ]
    },
    {
     "data": {
      "text/html": [
       "<div>\n",
       "<style scoped>\n",
       "    .dataframe tbody tr th:only-of-type {\n",
       "        vertical-align: middle;\n",
       "    }\n",
       "\n",
       "    .dataframe tbody tr th {\n",
       "        vertical-align: top;\n",
       "    }\n",
       "\n",
       "    .dataframe thead th {\n",
       "        text-align: right;\n",
       "    }\n",
       "</style>\n",
       "<table border=\"1\" class=\"dataframe\">\n",
       "  <thead>\n",
       "    <tr style=\"text-align: right;\">\n",
       "      <th></th>\n",
       "      <th>Date</th>\n",
       "      <th>Close</th>\n",
       "      <th>(Close-1)</th>\n",
       "      <th>(Close-5)</th>\n",
       "      <th>(Close-8)</th>\n",
       "      <th>(Close-10)</th>\n",
       "      <th>(Close-19)</th>\n",
       "      <th>(Close-25)</th>\n",
       "      <th>(Close-45)</th>\n",
       "      <th>(Close-47)</th>\n",
       "      <th>(Close-50)</th>\n",
       "      <th>(Close-57)</th>\n",
       "      <th>(Close-64)</th>\n",
       "      <th>(Close-68)</th>\n",
       "    </tr>\n",
       "  </thead>\n",
       "  <tbody>\n",
       "    <tr>\n",
       "      <th>68</th>\n",
       "      <td>2020-12-08</td>\n",
       "      <td>216.626663</td>\n",
       "      <td>213.919998</td>\n",
       "      <td>194.919998</td>\n",
       "      <td>191.333328</td>\n",
       "      <td>173.949997</td>\n",
       "      <td>136.786667</td>\n",
       "      <td>133.503326</td>\n",
       "      <td>141.893326</td>\n",
       "      <td>149.386673</td>\n",
       "      <td>140.399994</td>\n",
       "      <td>141.143326</td>\n",
       "      <td>110.07000</td>\n",
       "      <td>158.350006</td>\n",
       "    </tr>\n",
       "    <tr>\n",
       "      <th>69</th>\n",
       "      <td>2020-12-09</td>\n",
       "      <td>201.493332</td>\n",
       "      <td>216.626663</td>\n",
       "      <td>189.606674</td>\n",
       "      <td>195.253326</td>\n",
       "      <td>185.126663</td>\n",
       "      <td>139.043335</td>\n",
       "      <td>141.300003</td>\n",
       "      <td>137.993332</td>\n",
       "      <td>138.363327</td>\n",
       "      <td>139.690002</td>\n",
       "      <td>147.383331</td>\n",
       "      <td>122.09333</td>\n",
       "      <td>149.123337</td>\n",
       "    </tr>\n",
       "  </tbody>\n",
       "</table>\n",
       "</div>"
      ],
      "text/plain": [
       "          Date       Close   (Close-1)   (Close-5)   (Close-8)  (Close-10)  \\\n",
       "68  2020-12-08  216.626663  213.919998  194.919998  191.333328  173.949997   \n",
       "69  2020-12-09  201.493332  216.626663  189.606674  195.253326  185.126663   \n",
       "\n",
       "    (Close-19)  (Close-25)  (Close-45)  (Close-47)  (Close-50)  (Close-57)  \\\n",
       "68  136.786667  133.503326  141.893326  149.386673  140.399994  141.143326   \n",
       "69  139.043335  141.300003  137.993332  138.363327  139.690002  147.383331   \n",
       "\n",
       "    (Close-64)  (Close-68)  \n",
       "68   110.07000  158.350006  \n",
       "69   122.09333  149.123337  "
      ]
     },
     "metadata": {},
     "output_type": "display_data"
    },
    {
     "data": {
      "image/png": "[encoded data removed]",
      "text/plain": [
       "<Figure size 640x480 with 1 Axes>"
      ]
     },
     "metadata": {},
     "output_type": "display_data"
    }
   ],
   "source": [
    "tesla_significantLags = getSignificantLags(y=TESLA['Close'], nLags = 70, alpha=0.05)\n",
    "\n",
    "TM_tesla = appendLagVariables(yNm='Close', significantLags = tesla_significantLags, df = TESLA, dropna=True)"
   ]
  },
  {
   "cell_type": "code",
   "execution_count": 9,
   "metadata": {},
   "outputs": [],
   "source": [
    "def create_lagged_matrix(series, lags):\n",
    "    n_rows = len(series) - max(lags)  # Usar o maior lag para calcular o número de linhas\n",
    "    lagged_matrix = np.zeros((n_rows, len(lags)))\n",
    "    \n",
    "    for i, lag in enumerate(lags):\n",
    "        lagged_matrix[:, i] = series[lag: lag + n_rows]\n",
    "    \n",
    "    return lagged_matrix"
   ]
  },
  {
   "cell_type": "code",
   "execution_count": 15,
   "metadata": {},
   "outputs": [],
   "source": [
    "L = create_lagged_matrix(TM_tesla['Close'], tesla_significantLags)"
   ]
  },
  {
   "cell_type": "markdown",
   "metadata": {},
   "source": [
    "Inicialmente, devemos criar nossa matriz da nossa série temporal, na bibliografia chame-se **Lagged Matrix**.\n",
    "\n",
    "Seja a nossa série temporal $X = \\{y_t\\}_t^n$, podemos construir a nossa **Lagged Matrix** definida por L como sendo:\n",
    "$$\n",
    "L = \\begin{pmatrix}\n",
    "y_t & y_{t-1} & y_{t-2} & y_{t-3} & ... \\\\\n",
    "y_{t+1}& y_t  & y_{t-1} & y_{t-2} & ... \\\\\n",
    " \\vdots & \\ddots & \\vdots  & \\ddots  & \\vdots \\\\\n",
    " \\cdots & \\cdots & \\cdots & \\cdots & \\cdots  \\\\\n",
    "\\end{pmatrix}\n",
    "$$\n",
    "\n",
    "Onde cada linha contém um conjunto de observações atrasadas da série."
   ]
  },
  {
   "cell_type": "code",
   "execution_count": 16,
   "metadata": {},
   "outputs": [
    {
     "data": {
      "text/plain": [
       "array([[201.49333191, 211.08332825, 231.66667175, ..., 217.7333374 ,\n",
       "        231.24333191, 217.72000122],\n",
       "       [209.02333069, 207.58999634, 216.61999512, ..., 207.14666748,\n",
       "        235.97999573, 218.28999329],\n",
       "       [203.33000183, 218.6333313 , 213.44667053, ..., 199.31666565,\n",
       "        225.62666321, 223.33332825],\n",
       "       ...,\n",
       "       [180.11000061, 176.19000244, 176.28999329, ..., 207.83000183,\n",
       "        210.66000366, 205.75      ],\n",
       "       [173.74000549, 178.78999329, 174.77000427, ..., 201.38000488,\n",
       "        220.32000732, 206.27999878],\n",
       "       [179.24000549, 178.08000183, 175.        , ..., 214.13999939,\n",
       "        213.21000671, 214.11000061]])"
      ]
     },
     "execution_count": 16,
     "metadata": {},
     "output_type": "execute_result"
    }
   ],
   "source": [
    "L"
   ]
  },
  {
   "cell_type": "code",
   "execution_count": 17,
   "metadata": {},
   "outputs": [
    {
     "name": "stdout",
     "output_type": "stream",
     "text": [
      "Matriz U:\n",
      "[[-3.30671196e-02 -1.00276878e-02 -5.44263258e-02 ... -4.19395211e-02\n",
      "   2.93214370e-02  6.55856226e-02]\n",
      " [-3.28798289e-02 -7.78546764e-03 -5.20946768e-02 ... -3.90916909e-02\n",
      "   7.94546604e-05  3.76222954e-02]\n",
      " [-3.32876987e-02 -4.40732609e-03 -6.11831267e-02 ... -5.52574843e-02\n",
      "   7.49214712e-04 -8.68149155e-03]\n",
      " ...\n",
      " [-2.75733730e-02 -2.24581761e-02 -1.30878421e-02 ... -5.17788700e-03\n",
      "  -1.43928413e-02  1.86935514e-02]\n",
      " [-2.77070084e-02 -2.45627933e-02 -1.54018988e-02 ... -3.24788820e-02\n",
      "  -3.52007166e-02  1.34086679e-02]\n",
      " [-2.78065149e-02 -2.28408793e-02 -9.79301123e-03 ...  2.94471045e-03\n",
      "  -1.47560744e-02 -1.60777433e-03]]\n",
      "\n",
      "Valores Singulares (S):\n",
      "[24742.89484884  2552.10303557  1291.9320625   1013.88872088\n",
      "   578.32990332   516.36031463   402.9930547    355.91466577\n",
      "   300.03420618   287.60768005   230.98788909   221.33050595]\n",
      "\n",
      "Matriz V transposta (V^T):\n",
      "[[-0.28979971 -0.29015179 -0.29027482 -0.2902772  -0.29001785 -0.28942293\n",
      "  -0.28831017 -0.28818328 -0.28787508 -0.2871624  -0.28659077 -0.28599095]\n",
      " [ 0.33705782  0.34126298  0.3342042   0.32073133  0.21763003  0.12862584\n",
      "  -0.21433129 -0.23985356 -0.26927482 -0.31380829 -0.33170747 -0.32707963]\n",
      " [ 0.20268223  0.17535765  0.12042286  0.07235438 -0.22341705 -0.36617883\n",
      "  -0.39307802 -0.34580581 -0.22864599  0.11857925  0.39915368  0.47399894]\n",
      " [ 0.37305751  0.23668417  0.08192451 -0.03510538 -0.48401434 -0.51888913\n",
      "   0.20691897  0.25388401  0.25561668  0.09067385 -0.17752426 -0.28460468]\n",
      " [ 0.50401924  0.06636188 -0.2851517  -0.42114835 -0.05942367  0.21698048\n",
      "   0.21433507  0.09972122 -0.16695771 -0.50488108  0.03379543  0.30408194]\n",
      " [ 0.39759754  0.00909344 -0.27503569 -0.33566386  0.06707037  0.29059657\n",
      "  -0.2935825  -0.20675571  0.07326042  0.56230484  0.04608922 -0.33460006]\n",
      " [-0.19739101  0.20040444  0.18670146 -0.02703863 -0.63240384  0.54553854\n",
      "  -0.18908734 -0.05325188  0.20928274  0.00263189 -0.25073019  0.20610144]\n",
      " [-0.00770594  0.13080982 -0.09167185 -0.16976151  0.37330628 -0.22847203\n",
      "  -0.39909046 -0.00831465  0.6143405  -0.16505629 -0.33139779  0.28324019]\n",
      " [ 0.15899718 -0.33449585  0.01744865  0.22900662 -0.15173427  0.11743308\n",
      "  -0.30231883  0.07517711  0.3882705  -0.40871313  0.51533591 -0.30471354]\n",
      " [ 0.37883347 -0.66391573 -0.0031177   0.35626685 -0.0797033   0.01141107\n",
      "   0.02302862 -0.05221303 -0.00307241  0.15692014 -0.41308123  0.28940715]\n",
      " [ 0.02709394 -0.18939599  0.47386064 -0.34018292  0.04245306 -0.02885582\n",
      "   0.39768554 -0.61562987  0.27026759 -0.06239567  0.06769791 -0.04262748]\n",
      " [ 0.03854088 -0.24955894  0.59812993 -0.43786103  0.07643159 -0.01627373\n",
      "  -0.31044381  0.48208593 -0.2207638   0.05360599 -0.01583267  0.00186925]]\n"
     ]
    }
   ],
   "source": [
    "# Aplicando a decomposição SVD\n",
    "U, S, Vt = np.linalg.svd(L, full_matrices=False)\n",
    "\n",
    "# Exibindo os componentes\n",
    "print(\"Matriz U:\")\n",
    "print(U)\n",
    "print(\"\\nValores Singulares (S):\")\n",
    "print(S)\n",
    "print(\"\\nMatriz V transposta (V^T):\")\n",
    "print(Vt)"
   ]
  },
  {
   "cell_type": "markdown",
   "metadata": {},
   "source": [
    "Nosso objetivo é resolver o problema:\n",
    "\n",
    "$$\\hat{x} = \\min_{x}\\left\\| y - \\hat{y} \\right\\|^2 = \\min_{x}\\left\\| y - Lx \\right\\|^2$$\n",
    "\n",
    "via decomposição SVD.\n",
    "\n",
    "Logo, nosso problema de mínimos quadrados via SVD ficará:\n",
    "\n",
    "$$\\hat{x} = \\min_{x}\\left\\| y - \\hat{y} \\right\\|^2 = \\min_{x}\\left\\| y - U\\Sigma V^T x\\right\\|^2 $$\n",
    "\n",
    "- $U$ é uma matriz ortogonal de autovetores de $L^TL$\n",
    "\n",
    "- $\\Sigma$ é uma matriz diagonal contendo os valores singulares de $L$\n",
    "\n",
    "- $V$ é uma matriz ortogonal de autovetores de $L^T L$."
   ]
  },
  {
   "cell_type": "markdown",
   "metadata": {},
   "source": [
    "O valor de $y$ a qual estamos considerando é **O VALOR DE FECHAMENTO DAS AÇÕES DA TESLA**."
   ]
  }
 ],
 "metadata": {
  "kernelspec": {
   "display_name": "Python 3",
   "language": "python",
   "name": "python3"
  },
  "language_info": {
   "codemirror_mode": {
    "name": "ipython",
    "version": 3
   },
   "file_extension": ".py",
   "mimetype": "text/x-python",
   "name": "python",
   "nbconvert_exporter": "python",
   "pygments_lexer": "ipython3",
   "version": "3.12.5"
  }
 },
 "nbformat": 4,
 "nbformat_minor": 2
}
