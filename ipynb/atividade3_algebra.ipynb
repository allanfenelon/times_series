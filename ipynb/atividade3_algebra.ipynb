{
 "cells": [
  {
   "cell_type": "markdown",
   "metadata": {},
   "source": [
    "## Atividade 3\n",
    "### Allan Pereira Fenelon"
   ]
  },
  {
   "cell_type": "code",
   "execution_count": 105,
   "metadata": {},
   "outputs": [],
   "source": [
    "import numpy as np\n",
    "from scipy.linalg import qr, lstsq, svd"
   ]
  },
  {
   "cell_type": "markdown",
   "metadata": {},
   "source": [
    "## 3) (Exercício Computacional) Considere o problema por mínimos quadrados $\\min\\left\\| Ax -b\\right\\|_2$, onde"
   ]
  },
  {
   "cell_type": "code",
   "execution_count": 106,
   "metadata": {},
   "outputs": [],
   "source": [
    "A = np.array([[1, 7, 8, 16], \n",
    "             [2 , 6, 8, 16],\n",
    "             [3, 4, 7, 14],\n",
    "             [-1, 5, 4, 8],\n",
    "             [0, 1, 1, 2]])"
   ]
  },
  {
   "cell_type": "markdown",
   "metadata": {},
   "source": [
    "### a) encontre $x_{básico}$ e $x^+$ usando QR com e sem pivotamento, e também SVD."
   ]
  },
  {
   "cell_type": "markdown",
   "metadata": {},
   "source": [
    "OBS:\n",
    "\n",
    "$x_{básico}$ é uma solução básica do sistema $Ax=b$;\n",
    "\n",
    "$x^+$ é a solução de mínimos quadrados que minimiza $\\min\\left\\| Ax -b\\right\\|_2$."
   ]
  },
  {
   "cell_type": "markdown",
   "metadata": {},
   "source": [
    "Como o vetor b não foi fornecido no enunciado da questão vamoss colcoar um vetor b tal que:\n"
   ]
  },
  {
   "cell_type": "code",
   "execution_count": 107,
   "metadata": {},
   "outputs": [],
   "source": [
    "b = np.array([16,16,14,8,2])\n",
    "b = b.reshape(-1,1)"
   ]
  },
  {
   "cell_type": "markdown",
   "metadata": {},
   "source": [
    "Agora podemos encontar o nosso $x_{básico}$ e $x^+$"
   ]
  },
  {
   "cell_type": "markdown",
   "metadata": {},
   "source": [
    "- Encontraremos nesta etapata $x_{básico}$."
   ]
  },
  {
   "cell_type": "markdown",
   "metadata": {},
   "source": [
    "__SEM PIVOTAEMENTO__"
   ]
  },
  {
   "cell_type": "markdown",
   "metadata": {},
   "source": [
    "Como $x_{básico}$ é uma solução básica do sistema $Ax=b$, então se $A=QR$ então $QRx=b$ e logo $Rx_{básico}=Q^Tb$.\n",
    "\n",
    "Logo, $x_{básico} = R^+Q^Tb$, onde $R^+$ é a pseudo inversa de R."
   ]
  },
  {
   "cell_type": "code",
   "execution_count": 108,
   "metadata": {},
   "outputs": [
    {
     "name": "stdout",
     "output_type": "stream",
     "text": [
      "Solução básica x_basico:\n",
      "[[0.18181818]\n",
      " [0.18181818]\n",
      " [0.36363636]\n",
      " [0.72727273]]\n"
     ]
    }
   ],
   "source": [
    "Q, R = qr(A, mode='full')\n",
    "\n",
    "x_basico = np.linalg.pinv(R) @ (Q.T @ b)\n",
    "\n",
    "print(\"Solução básica x_basico:\")\n",
    "print(x_basico)"
   ]
  },
  {
   "cell_type": "code",
   "execution_count": 109,
   "metadata": {},
   "outputs": [
    {
     "data": {
      "text/plain": [
       "array([[16.],\n",
       "       [16.],\n",
       "       [14.],\n",
       "       [ 8.],\n",
       "       [ 2.]])"
      ]
     },
     "execution_count": 109,
     "metadata": {},
     "output_type": "execute_result"
    }
   ],
   "source": [
    "Ax_basico = np.dot(A, x_basico)\n",
    "Ax_basico"
   ]
  },
  {
   "cell_type": "code",
   "execution_count": 110,
   "metadata": {},
   "outputs": [
    {
     "name": "stdout",
     "output_type": "stream",
     "text": [
      "Verificando a solução x_básico:\n",
      "True\n"
     ]
    }
   ],
   "source": [
    "print(\"Verificando a solução x_básico:\")\n",
    "print(np.allclose(Ax_basico, b))"
   ]
  },
  {
   "cell_type": "markdown",
   "metadata": {},
   "source": [
    "__COM PIVOTAMENTO__"
   ]
  },
  {
   "cell_type": "markdown",
   "metadata": {},
   "source": [
    "\n",
    "Como $x_{básico}$ é uma solução básica do sistema $APx=b$, então se $AP=QR$, logo $A=QRP^{-1}=QRP^T$ então $QRP^Tx=b$ e logo $x_{básico}=PR^+Q^Tb$.\n"
   ]
  },
  {
   "cell_type": "code",
   "execution_count": 111,
   "metadata": {},
   "outputs": [
    {
     "name": "stdout",
     "output_type": "stream",
     "text": [
      "Solução x_basico (QR com pivotamento):\n",
      "[[0.18181818]\n",
      " [0.18181818]\n",
      " [0.36363636]\n",
      " [0.72727273]]\n"
     ]
    }
   ],
   "source": [
    "Q, R, P = qr(A, pivoting=True, mode='full')\n",
    "\n",
    "# Construindo a matriz de permutação P_matrix\n",
    "P_matrix = np.eye(A.shape[1])[P]  \n",
    "\n",
    "x_basico_piv = P_matrix.T @ np.linalg.pinv(R) @ Q.T @ b\n",
    "\n",
    "print(\"Solução x_basico (QR com pivotamento):\")\n",
    "print(x_basico_piv)"
   ]
  },
  {
   "cell_type": "code",
   "execution_count": 112,
   "metadata": {},
   "outputs": [
    {
     "data": {
      "text/plain": [
       "array([[16.],\n",
       "       [16.],\n",
       "       [14.],\n",
       "       [ 8.],\n",
       "       [ 2.]])"
      ]
     },
     "execution_count": 112,
     "metadata": {},
     "output_type": "execute_result"
    }
   ],
   "source": [
    "Ax_basico_piv = np.dot(A, x_basico_piv)\n",
    "Ax_basico_piv"
   ]
  },
  {
   "cell_type": "code",
   "execution_count": 113,
   "metadata": {},
   "outputs": [
    {
     "name": "stdout",
     "output_type": "stream",
     "text": [
      "Verificando a solução x_basico:\n",
      "True\n"
     ]
    }
   ],
   "source": [
    "print(\"Verificando a solução x_basico:\")\n",
    "print(np.allclose(Ax_basico_piv, b)) "
   ]
  },
  {
   "cell_type": "markdown",
   "metadata": {},
   "source": [
    "__COM SVD__"
   ]
  },
  {
   "cell_type": "markdown",
   "metadata": {},
   "source": [
    "Como $x_{básico}$ é uma solução básica do sistema $Ax=b$, então se $A=U \\Sigma V^T$ então $U \\Sigma V^Tx=b$ e logo $ \\Sigma V^Tx_{básico}=U^Tb$.\n",
    "\n",
    "Logo, $x_{básico} = V\\Sigma^+U^Tb$."
   ]
  },
  {
   "cell_type": "code",
   "execution_count": 114,
   "metadata": {},
   "outputs": [
    {
     "name": "stdout",
     "output_type": "stream",
     "text": [
      "Solução básica x_basico_svd:\n",
      "[[-0.05362823  0.02944005  0.12959538 -0.15141652 -0.01708706]\n",
      " [ 0.05540351 -0.01938013 -0.11043716  0.13987721  0.01627339]\n",
      " [ 0.00177528  0.01005992  0.01915822 -0.01153932 -0.00081367]\n",
      " [ 0.00355056  0.02011983  0.03831644 -0.02307863 -0.00162734]]\n"
     ]
    }
   ],
   "source": [
    "U, S, Vt = svd(A, full_matrices=False)\n",
    "\n",
    "# Criando S_inv como uma matriz diagonal de tamanho p x p\n",
    "S_inv = np.zeros_like(Vt.T)\n",
    "for i in range(len(S)):\n",
    "    if S[i] > 1e-10:  \n",
    "        S_inv[i, i] = 1 / S[i]\n",
    "\n",
    "x_basico_svd = Vt.T @ S_inv @ U.T\n",
    "\n",
    "print(\"Solução básica x_basico_svd:\")\n",
    "print(x_basico_svd)"
   ]
  },
  {
   "cell_type": "code",
   "execution_count": 115,
   "metadata": {},
   "outputs": [
    {
     "data": {
      "text/plain": [
       "array([[16.],\n",
       "       [16.],\n",
       "       [14.],\n",
       "       [ 8.],\n",
       "       [ 2.]])"
      ]
     },
     "execution_count": 115,
     "metadata": {},
     "output_type": "execute_result"
    }
   ],
   "source": [
    "Ax_basico_SVD = np.dot(A, x_basico_piv)\n",
    "Ax_basico_SVD"
   ]
  },
  {
   "cell_type": "code",
   "execution_count": 116,
   "metadata": {},
   "outputs": [
    {
     "name": "stdout",
     "output_type": "stream",
     "text": [
      "Verificando a solução x_basico_svd:\n",
      "True\n"
     ]
    }
   ],
   "source": [
    "print(\"Verificando a solução x_basico_svd:\")\n",
    "print(np.allclose(Ax_basico_SVD, b)) "
   ]
  },
  {
   "cell_type": "markdown",
   "metadata": {},
   "source": [
    "- Encontraremos nesta etapata $x^+$."
   ]
  },
  {
   "cell_type": "markdown",
   "metadata": {},
   "source": [
    "$x^+$ é a solução de mínimos quadrados que minimiza $J(x) = \\left\\| Ax -b\\right\\|_2^2 = (Ax -b)^T(Ax -b) = x^TA^TAx -2b^TAx+b^Tb$. Logo:\n",
    "\n",
    "$$\n",
    "\\min\\{x^TA^TAx -2b^TAx+b^Tb\\} = \\frac{dJ(x)}{dx} = 2A^TAx-2A^Tb=0\n",
    "$$\n",
    "\n",
    "Portanto:\n",
    "\n",
    "$$\n",
    "A^TAx^+= A^Tb\n",
    "$$\n"
   ]
  },
  {
   "cell_type": "markdown",
   "metadata": {},
   "source": [
    "__SEM PIVOTAMENTO__"
   ]
  },
  {
   "cell_type": "markdown",
   "metadata": {},
   "source": [
    "Temos que:\n",
    "\n",
    "$$\n",
    "A^TAx^+= A^Tb\n",
    "$$\n",
    "\n",
    "Se $A=QR$ então: \n",
    "$$\n",
    "(QR)^TQRx^+= (QR)^Tb\n",
    "$$\n",
    "\n",
    "$$\n",
    "R^TQ^TQRx^+= R^TQ^Tb\n",
    "$$\n",
    "\n",
    "$$\n",
    "Rx^+= Q^Tb\n",
    "$$\n",
    "\n",
    "$$\n",
    "x^+= R^{-1}Q^Tb\n",
    "$$"
   ]
  },
  {
   "cell_type": "code",
   "execution_count": 117,
   "metadata": {},
   "outputs": [
    {
     "name": "stdout",
     "output_type": "stream",
     "text": [
      "Solução básica x_plus:\n",
      "[[0.18181818]\n",
      " [0.18181818]\n",
      " [0.36363636]\n",
      " [0.72727273]]\n"
     ]
    }
   ],
   "source": [
    "Q, R = qr(A, mode='full')\n",
    "\n",
    "x_plus = np.linalg.pinv(R) @ Q.T @ b\n",
    "\n",
    "print(\"Solução básica x_plus:\")\n",
    "print(x_plus)"
   ]
  },
  {
   "cell_type": "code",
   "execution_count": 118,
   "metadata": {},
   "outputs": [
    {
     "data": {
      "text/plain": [
       "array([[16.],\n",
       "       [16.],\n",
       "       [14.],\n",
       "       [ 8.],\n",
       "       [ 2.]])"
      ]
     },
     "execution_count": 118,
     "metadata": {},
     "output_type": "execute_result"
    }
   ],
   "source": [
    "Ax_plus = np.dot(A, x_plus)\n",
    "Ax_plus"
   ]
  },
  {
   "cell_type": "code",
   "execution_count": 119,
   "metadata": {},
   "outputs": [
    {
     "name": "stdout",
     "output_type": "stream",
     "text": [
      "Verificando a solução x_plus:\n",
      "True\n"
     ]
    }
   ],
   "source": [
    "print(\"Verificando a solução x_plus:\")\n",
    "print(np.allclose(Ax_plus, b)) "
   ]
  },
  {
   "cell_type": "markdown",
   "metadata": {},
   "source": [
    "__COM PIVOTAMENTO__"
   ]
  },
  {
   "cell_type": "markdown",
   "metadata": {},
   "source": [
    "Temos que:\n",
    "\n",
    "$$\n",
    "A^TAx^+= A^Tb\n",
    "$$\n",
    "\n",
    "Se $AP=QR$ então, $A=QRP^T: \n",
    "\n",
    "$$\n",
    "(QRP^T)^TQRP^Tx^+= (QRP^T)^Tb\n",
    "$$\n",
    "\n",
    "$$\n",
    "PR^TQ^TQRP^Tx^+= PR^TQ^Tb\n",
    "$$\n",
    "\n",
    "$$\n",
    "PR^TRP^Tx^+= PR^TQ^Tb\n",
    "$$\n",
    "\n",
    "\n",
    "$$\n",
    "R^TRP^Tx^+= R^TQ^Tb\n",
    "$$\n",
    "\n",
    "$$\n",
    "RP^Tx^+= Q^Tb\n",
    "$$\n",
    "\n",
    "$$\n",
    "x^+= PR^+Q^Tb\n",
    "$$\n",
    "\n",
    "\n"
   ]
  },
  {
   "cell_type": "code",
   "execution_count": 120,
   "metadata": {},
   "outputs": [
    {
     "name": "stdout",
     "output_type": "stream",
     "text": [
      "Solução x_plus:\n",
      "[[0.18181818]\n",
      " [0.18181818]\n",
      " [0.36363636]\n",
      " [0.72727273]]\n"
     ]
    }
   ],
   "source": [
    "Q, R, P = qr(A, pivoting=True, mode='full')\n",
    "\n",
    "# Construindo a matriz de permutação P_matrix\n",
    "P_matrix = np.eye(A.shape[1])[P]  \n",
    "\n",
    "x_plus_piv = P_matrix.T@np.linalg.pinv(R)@Q.T@b\n",
    "\n",
    "print(\"Solução x_plus:\")\n",
    "print(x_plus_piv)"
   ]
  },
  {
   "cell_type": "code",
   "execution_count": 121,
   "metadata": {},
   "outputs": [
    {
     "data": {
      "text/plain": [
       "array([[16.],\n",
       "       [16.],\n",
       "       [14.],\n",
       "       [ 8.],\n",
       "       [ 2.]])"
      ]
     },
     "execution_count": 121,
     "metadata": {},
     "output_type": "execute_result"
    }
   ],
   "source": [
    "Ax_plus_piv = np.dot(A, x_plus_piv)\n",
    "Ax_plus_piv"
   ]
  },
  {
   "cell_type": "code",
   "execution_count": 122,
   "metadata": {},
   "outputs": [
    {
     "name": "stdout",
     "output_type": "stream",
     "text": [
      "Verificando a solução x_plus_piv:\n",
      "True\n"
     ]
    }
   ],
   "source": [
    "print(\"Verificando a solução x_plus_piv:\")\n",
    "print(np.allclose(Ax_plus_piv, b)) "
   ]
  },
  {
   "cell_type": "markdown",
   "metadata": {},
   "source": [
    "__COM SVD__"
   ]
  },
  {
   "cell_type": "markdown",
   "metadata": {},
   "source": [
    "Temos que:\n",
    "\n",
    "$$\n",
    "A^TAx^+= A^Tb\n",
    "$$\n",
    "\n",
    "Se $A=U \\Sigma V^T$ então: \n",
    "\n",
    "$$\n",
    "(U \\Sigma V^T)^TU \\Sigma V^Tx^+= (U \\Sigma V^T)^Tb\n",
    "$$\n",
    "\n",
    "$$\n",
    "V\\Sigma U^TU \\Sigma V^Tx^+= V\\Sigma U^Tb\n",
    "$$\n",
    "\n",
    "$$\n",
    "V\\Sigma^2 V^Tx^+= V\\Sigma U^Tb\n",
    "$$\n",
    "\n",
    "$$\n",
    "\\Sigma^2 V^Tx^+= \\Sigma U^Tb\n",
    "$$\n",
    "\n",
    "$$\n",
    "V^Tx^+= \\Sigma^+ U^Tb\n",
    "$$\n",
    "\n",
    "$$\n",
    "x^+= V\\Sigma^+ U^Tb\n",
    "$$\n",
    "\n",
    "\n",
    "\n"
   ]
  },
  {
   "cell_type": "code",
   "execution_count": 123,
   "metadata": {},
   "outputs": [
    {
     "name": "stdout",
     "output_type": "stream",
     "text": [
      "Solução básica x_plus_svd:\n",
      "[[0.18181818]\n",
      " [0.18181818]\n",
      " [0.36363636]\n",
      " [0.72727273]]\n"
     ]
    }
   ],
   "source": [
    "U, S, Vt = svd(A, full_matrices=False)\n",
    "\n",
    "# Criando S_inv como uma matriz diagonal de tamanho p x p\n",
    "S_inv = np.zeros_like(Vt.T)\n",
    "for i in range(len(S)):\n",
    "    if S[i] > 1e-10:  \n",
    "        S_inv[i, i] = 1 / S[i]\n",
    "\n",
    "x_plus_svd = Vt.T @ S_inv @ U.T @b\n",
    "\n",
    "print(\"Solução básica x_plus_svd:\")\n",
    "print(x_plus_svd)"
   ]
  },
  {
   "cell_type": "code",
   "execution_count": 124,
   "metadata": {},
   "outputs": [
    {
     "data": {
      "text/plain": [
       "array([[16.],\n",
       "       [16.],\n",
       "       [14.],\n",
       "       [ 8.],\n",
       "       [ 2.]])"
      ]
     },
     "execution_count": 124,
     "metadata": {},
     "output_type": "execute_result"
    }
   ],
   "source": [
    "Ax_plus_SVD = np.dot(A, x_plus_svd)\n",
    "Ax_plus_SVD"
   ]
  },
  {
   "cell_type": "code",
   "execution_count": 125,
   "metadata": {},
   "outputs": [
    {
     "name": "stdout",
     "output_type": "stream",
     "text": [
      "Verificando a solução x_plus_SVD:\n",
      "True\n"
     ]
    }
   ],
   "source": [
    "print(\"Verificando a solução x_plus_SVD:\")\n",
    "print(np.allclose(Ax_plus_SVD, b)) "
   ]
  },
  {
   "cell_type": "markdown",
   "metadata": {},
   "source": [
    "### b) Calcule $\\tilde{A} = A + E$, onde E é uma matriz de erros cujos elementos são menores ou igual a $10^{-2}$. Calcule a solução básica e aproximação para $x^+$ desprezando o termo $R_3$ proveniente da matriz R. Compare com a SVD."
   ]
  },
  {
   "cell_type": "code",
   "execution_count": 126,
   "metadata": {},
   "outputs": [],
   "source": [
    "R_aprox = R.copy()\n",
    "\n",
    "R_aprox[-1, :] = 0 \n",
    "\n",
    "Q_b = Q.T @ b\n",
    "x_aprox, residuals, rank, s = np.linalg.lstsq(R_aprox, Q_b, rcond=None)"
   ]
  },
  {
   "cell_type": "code",
   "execution_count": 127,
   "metadata": {},
   "outputs": [
    {
     "name": "stdout",
     "output_type": "stream",
     "text": [
      "Solução aproximada (QR desprezando R_3): [[0.72727273]\n",
      " [0.18181818]\n",
      " [0.18181818]\n",
      " [0.36363636]]\n",
      "Solução via SVD: [[0.18181818]\n",
      " [0.18181818]\n",
      " [0.36363636]\n",
      " [0.72727273]]\n",
      "Diferença entre as soluções: 0.6803013430498072\n"
     ]
    }
   ],
   "source": [
    "print(\"Solução aproximada (QR desprezando R_3):\", x_aprox)\n",
    "print(\"Solução via SVD:\", x_plus_svd)\n",
    "print(\"Diferença entre as soluções:\", np.linalg.norm(x_aprox - x_plus_svd))"
   ]
  },
  {
   "cell_type": "markdown",
   "metadata": {},
   "source": [
    "## 4)"
   ]
  },
  {
   "cell_type": "code",
   "execution_count": 128,
   "metadata": {},
   "outputs": [],
   "source": [
    "A = np.array([\n",
    "    [1, 1000],\n",
    "    [0,0.001]\n",
    "])"
   ]
  },
  {
   "cell_type": "markdown",
   "metadata": {},
   "source": [
    "### a) Calcule a decomposição SVD de A e os valores singulares"
   ]
  },
  {
   "cell_type": "code",
   "execution_count": 129,
   "metadata": {},
   "outputs": [
    {
     "data": {
      "text/plain": [
       "array([[-0.57937559, -0.2636881 ,  0.73571823, -0.10919463],\n",
       "       [-0.57197957,  0.13354887, -0.19935076, -0.08672702],\n",
       "       [-0.49123711,  0.61340147, -0.30123036,  0.09010122],\n",
       "       [-0.30078181, -0.72769951, -0.56667439, -0.01234502],\n",
       "       [-0.07334645, -0.08261563,  0.08437041,  0.98604479]])"
      ]
     },
     "execution_count": 129,
     "metadata": {},
     "output_type": "execute_result"
    }
   ],
   "source": [
    "U"
   ]
  },
  {
   "cell_type": "code",
   "execution_count": 130,
   "metadata": {},
   "outputs": [
    {
     "data": {
      "text/plain": [
       "array([[-0.57937559, -0.2636881 ,  0.73571823, -0.10919463],\n",
       "       [-0.57197957,  0.13354887, -0.19935076, -0.08672702],\n",
       "       [-0.49123711,  0.61340147, -0.30123036,  0.09010122],\n",
       "       [-0.30078181, -0.72769951, -0.56667439, -0.01234502],\n",
       "       [-0.07334645, -0.08261563,  0.08437041,  0.98604479]])"
      ]
     },
     "execution_count": 130,
     "metadata": {},
     "output_type": "execute_result"
    }
   ],
   "source": [
    "U"
   ]
  },
  {
   "cell_type": "code",
   "execution_count": 131,
   "metadata": {},
   "outputs": [
    {
     "name": "stdout",
     "output_type": "stream",
     "text": [
      "\n",
      "Matriz U:\n",
      " [[ 1.00000e+00 -9.99999e-07]\n",
      " [ 9.99999e-07  1.00000e+00]]\n",
      "\n",
      "Vetor com os valores singulares de A:\n",
      " [1.0000005e+03 9.9999950e-07]\n",
      "\n",
      "Matriz V^T:\n",
      " [[ 9.999995e-04  9.999995e-01]\n",
      " [-9.999995e-01  9.999995e-04]]\n"
     ]
    }
   ],
   "source": [
    "U, S, Vt = svd(A, full_matrices=False)\n",
    "\n",
    "print('\\nMatriz U:\\n', U)\n",
    "\n",
    "print('\\nVetor com os valores singulares de A:\\n', S)\n",
    "\n",
    "\n",
    "print('\\nMatriz V^T:\\n', Vt)\n",
    "\n"
   ]
  },
  {
   "cell_type": "markdown",
   "metadata": {},
   "source": [
    "### b) Discuta a influência do número de condição da matriz nos valores singulares."
   ]
  },
  {
   "cell_type": "markdown",
   "metadata": {},
   "source": [
    "O menor autovalor da matriz A está relacionado ao condicionamento da matriz, se o menor valor singular não-nulo de A for muito pequeno o número de condição da matriz A será grande, o que significa que a matriz A será mal condicionada.\n",
    "\n",
    "Quando a matriz A é bem condicionada não o menor valor singular comparado ao maior valor singular não é muito pequeno."
   ]
  },
  {
   "cell_type": "code",
   "execution_count": 132,
   "metadata": {},
   "outputs": [
    {
     "name": "stdout",
     "output_type": "stream",
     "text": [
      "Maior valor singular de A: 1000.000500000375\n",
      "Menor valor singular de A: 9.99999499999875e-07\n",
      "Número de condição da matriz A: 1000001000.0009997\n"
     ]
    }
   ],
   "source": [
    "print(f\"Maior valor singular de A: {S.max()}\")\n",
    "print(f\"Menor valor singular de A: {S.min()}\")\n",
    "print(f\"Número de condição da matriz A: {np.linalg.cond(A)}\")"
   ]
  },
  {
   "cell_type": "markdown",
   "metadata": {},
   "source": [
    "Com as informações que foram impressas podemos afirmar que a matriz A da letra a) é mal-condicionada."
   ]
  },
  {
   "cell_type": "markdown",
   "metadata": {},
   "source": [
    "### c) Resolva $Ax=b$ usando SVD e compare com a solução obtida diretamente via $x=A^{-1}b$."
   ]
  },
  {
   "cell_type": "markdown",
   "metadata": {},
   "source": [
    "$$\n",
    "Ax=b\n",
    "$$\n",
    "\n",
    "Se $A = U \\Sigma V^T$ então:\n",
    "\n",
    "$$\n",
    "U \\Sigma V^Tx=b\n",
    "$$\n",
    "\n",
    "$$\n",
    "x=V\\Sigma^+U^Tb\n",
    "$$"
   ]
  },
  {
   "cell_type": "code",
   "execution_count": 133,
   "metadata": {},
   "outputs": [],
   "source": [
    "b = np.array([2,1])"
   ]
  },
  {
   "cell_type": "code",
   "execution_count": 134,
   "metadata": {},
   "outputs": [],
   "source": [
    "S_inv = np.zeros_like(Vt.T)\n",
    "for i in range(len(S)):\n",
    "    if S[i] > 1e-10:  \n",
    "        S_inv[i, i] = 1 / S[i]\n",
    "\n",
    "x_svd = Vt.T@S_inv@U.T@b"
   ]
  },
  {
   "cell_type": "code",
   "execution_count": 135,
   "metadata": {},
   "outputs": [],
   "source": [
    "x_normal = np.linalg.inv(A)@b"
   ]
  },
  {
   "cell_type": "code",
   "execution_count": 136,
   "metadata": {},
   "outputs": [
    {
     "name": "stdout",
     "output_type": "stream",
     "text": [
      "Solução via SVD: [-999998.    1000.]\n",
      "\n",
      "Solução via equação padrão: [-999998.    1000.]\n",
      "\n"
     ]
    }
   ],
   "source": [
    "print(f'Solução via SVD: {x_svd}\\n')\n",
    "print(f'Solução via equação padrão: {x_normal}\\n')"
   ]
  },
  {
   "cell_type": "markdown",
   "metadata": {},
   "source": [
    "Não há diferenças numéricas em ambas as soluções. Logo ambas apresentam o mesmo resultado."
   ]
  }
 ],
 "metadata": {
  "kernelspec": {
   "display_name": "Python 3",
   "language": "python",
   "name": "python3"
  },
  "language_info": {
   "codemirror_mode": {
    "name": "ipython",
    "version": 3
   },
   "file_extension": ".py",
   "mimetype": "text/x-python",
   "name": "python",
   "nbconvert_exporter": "python",
   "pygments_lexer": "ipython3",
   "version": "3.12.5"
  }
 },
 "nbformat": 4,
 "nbformat_minor": 2
}
