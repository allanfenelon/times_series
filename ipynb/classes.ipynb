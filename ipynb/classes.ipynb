{
 "cells": [
  {
   "cell_type": "code",
   "execution_count": null,
   "metadata": {},
   "outputs": [],
   "source": [
    "class LagsSignificants():\n",
    "    def __init__(self, dataframe, y_name, n_lags = 5, alpha = 0.05, dropna=True):\n",
    "        self.significant_lags = []\n",
    "        self.y_name = y_name\n",
    "        self.dataframe = dataframe\n",
    "        self.y = self.dataframe[self.y_name]\n",
    "        self.n_lags = n_lags\n",
    "        self.alpha = alpha\n",
    "        self.dropna = dropna\n",
    "        self.pac = None\n",
    "        self.pac_ci = None\n",
    "    def __set_pac_and_pac_ci(self):\n",
    "        self.pac, self.pac_ci = sm.tsa.pacf(x=self.y, nlags=self.n_lags, alpha=self.alpha)\n",
    "    def __significant_lags(self):\n",
    "        self.__set_pac_and_pac_ci()\n",
    "        for i in range(1, len(self.pac)):\n",
    "            if self.pac[i] < self.pac_ci[i][0] - self.pac[i] or self.pac[i] > self.pac_ci[i][1] - self.pac[i]:\n",
    "                self.significant_lags.append(i)\n",
    "        return self.significant_lags\n",
    "    \n",
    "    def show_significant_lags(self):\n",
    "        pd.DataFrame(self.pac)[1:].plot(kind='bar', legend='pacf',\n",
    "                               xlabel='lag', ylabel='pacf');\n",
    "        print('significantLags:', self.significant_lags)\n",
    "\n",
    "    def append_lag_variables(self):\n",
    "        prefix = (self.y_name).replace(')', '')\n",
    "        df = (self.dataframe).copy()\n",
    "        for lag in self.significant_lags:\n",
    "            varNm = '('+prefix+'-'+str(lag)+')'\n",
    "            df[varNm] = df[self.y_name].shift(lag)\n",
    "        if self.dropna:\n",
    "            df.dropna(axis=0, inplace=True)\n",
    "        return df\n",
    "    \n",
    "    def get_ts_significant_lags(self):\n",
    "        self.__significant_lags()\n",
    "        df = self.append_lag_variables()\n",
    "        return df\n",
    "\n",
    "    "
   ]
  },
  {
   "cell_type": "code",
   "execution_count": null,
   "metadata": {},
   "outputs": [],
   "source": [
    "class TimeSerie(LagsSignificants):\n",
    "    def __init__(self, ts_name, dataframe):\n",
    "        self.ts_name = ts_name\n",
    "        self.dataframe = dataframe\n",
    "        self.dataframe_with_lags = None\n",
    "        self.X_train = None\n",
    "        self.X_test = None\n",
    "        self.y_train = None\n",
    "        self.y_test = None\n",
    "    def get_ts_name(self):\n",
    "        return self.ts_name\n",
    "    def get_dataframe(self):\n",
    "        return self.ts_name\n",
    "    def get_ts_significant_lags(self, n_lags = 5, alpha = 0.05, dropna=True ):\n",
    "        super().__init__(self.dataframe, self.ts_name, n_lags, alpha, dropna)\n",
    "        self.self.dataframe_with_lags =  super().get_ts_significant_lags()\n",
    "    "
   ]
  }
 ],
 "metadata": {
  "kernelspec": {
   "display_name": "Python 3",
   "language": "python",
   "name": "python3"
  },
  "language_info": {
   "name": "python",
   "version": "3.12.5"
  }
 },
 "nbformat": 4,
 "nbformat_minor": 2
}
