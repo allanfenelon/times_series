{
 "cells": [
  {
   "cell_type": "markdown",
   "metadata": {},
   "source": [
    "Uma API que faz consultas de cadastro de CPF: https://infosimples.com/"
   ]
  },
  {
   "attachments": {
    "image.png": {
     "image/png": "[encoded data removed]"
    }
   },
   "cell_type": "markdown",
   "metadata": {},
   "source": [
    "O custo por consulta de CPF é de R$ 0,24.\n",
    "\n",
    "De acordo com o banco de dados fornecido (Versão V1), estima-se a presença de 5.732 idosos cadastrados, conforme demonstrado na imagem abaixo:\n",
    "\n",
    "![image.png](attachment:image.png)\n",
    "\n",
    "Portanto, o investimento necessário para realizar a verificação utilizando a API em questão de todos os registros será de R$ 1.375,68."
   ]
  },
  {
   "cell_type": "markdown",
   "metadata": {},
   "source": [
    "Exemplo de consulta"
   ]
  },
  {
   "cell_type": "code",
   "execution_count": null,
   "metadata": {},
   "outputs": [
    {
     "name": "stdout",
     "output_type": "stream",
     "text": [
      "{'code': 200, 'code_message': 'A requisição foi processada com sucesso.', 'header': {'api_version': 'v2', 'api_version_full': '2.2.22-20241121122401', 'product': 'Consultas', 'service': 'receita-federal/cpf', 'parameters': {'birthdate': '2000-10-26', 'cpf': '07837686306'}, 'client_name': 'Allan Pereira Fenelon', 'token_name': 'Allan Pereira Fenelon', 'billable': True, 'price': '0.24', 'requested_at': '2024-11-21T15:30:17.000-03:00', 'elapsed_time_in_milliseconds': 1796, 'remote_ip': '143.0.209.51', 'signature': 'U2FsdGVkX1//OUMFi3VNxSZXz3NW/rvKmzKEzt61AhLpzF8q1KD1LpQbJVxFH/MVocdeqxIRHmAMt38NIvSZCg=='}, 'data_count': 1, 'data': [{'ano_obito': None, 'consulta_comprovante': 'DF00.ADAA.5E0A.D463', 'consulta_datahora': '21/11/2024 15:30:16', 'consulta_digito_verificador': '00', 'cpf': '078.376.863-06', 'data_inscricao': '26/11/2014', 'data_nascimento': '26/10/2000', 'nome': 'ALLAN PEREIRA FENELON', 'nome_civil': '', 'nome_social': '', 'normalizado_ano_obito': 0, 'normalizado_consulta_datahora': '21/11/2024 15:30:16', 'normalizado_cpf': '07837686306', 'normalizado_data_inscricao': '26/11/2014', 'normalizado_data_nascimento': '26/10/2000', 'origem': 'web', 'qrcode_url': 'https://servicos.receita.fazenda.gov.br/Servicos/CPF/ca/ResultadoAut.asp?cp=07837686306&cc=DF00ADAA5E0AD463&de=21112024&he=153016&dv=00&em=01', 'situacao_cadastral': 'REGULAR', 'site_receipt': 'https://us-central1-infosimples-data.cloudfunctions.net/infosimples-storage/26182/T88sLy1PBBuhqcT5wMgrh1cqOAZhwLcVDsdra1xYXXQ=/1732818617/Haedl6/aHR0cHM6Ly9zdG9yYWdlLmdvb2dsZWFwaXMuY29tL2luZm9zaW1wbGVzLWFwaS10bXAvYXBpL3JlY2VpdGEtZmVkZXJhbC9jcGYvMjAyNDExMjExNTMwMTcvcUl4SWFwN1lQZm5tTndkcjdPOEU2dWZxQkpTSk82dXUvZGE2MDg4NTJjNzI2NGNjOWJlNWI2YzcxMTJhZTExYzZfMF9raFU=.html'}], 'errors': [], 'site_receipts': ['https://us-central1-infosimples-data.cloudfunctions.net/infosimples-storage/26182/T88sLy1PBBuhqcT5wMgrh1cqOAZhwLcVDsdra1xYXXQ=/1732818617/Haedl6/aHR0cHM6Ly9zdG9yYWdlLmdvb2dsZWFwaXMuY29tL2luZm9zaW1wbGVzLWFwaS10bXAvYXBpL3JlY2VpdGEtZmVkZXJhbC9jcGYvMjAyNDExMjExNTMwMTcvcUl4SWFwN1lQZm5tTndkcjdPOEU2dWZxQkpTSk82dXUvZGE2MDg4NTJjNzI2NGNjOWJlNWI2YzcxMTJhZTExYzZfMF9raFU=.html']}\n"
     ]
    }
   ],
   "source": [
    "import requests\n",
    "\n",
    "# Configuração da URL e do token\n",
    "url = \"https://api.infosimples.com/api/v2/consultas/receita-federal/cpf\"\n",
    "headers = {\n",
    "    \"Content-Type\": \"application/json\"\n",
    "}\n",
    "payload = {\n",
    "    \"token\": \"TOKEM_AQUI\",\n",
    "    \"cpf\": \"CPF\",\n",
    "    \"birthdate\": \"DATA_NASCIMENTO\",\n",
    "    \"timeout\": 30\n",
    "}\n",
    "\n",
    "# Enviar requisição POST\n",
    "response = requests.post(url, json=payload, headers=headers)\n",
    "\n",
    "# Verificar a resposta\n",
    "if response.status_code == 200:\n",
    "    print(response.json())\n",
    "else:\n",
    "    print(f\"Erro: {response.status_code}, {response.text}\")"
   ]
  },
  {
   "cell_type": "code",
   "execution_count": 14,
   "metadata": {},
   "outputs": [],
   "source": [
    "import pandas as pd"
   ]
  },
  {
   "cell_type": "code",
   "execution_count": 16,
   "metadata": {},
   "outputs": [],
   "source": [
    "dados = pd.DataFrame(response.json()['data'])"
   ]
  },
  {
   "cell_type": "code",
   "execution_count": 19,
   "metadata": {},
   "outputs": [
    {
     "data": {
      "text/plain": [
       "Index(['ano_obito', 'consulta_comprovante', 'consulta_datahora',\n",
       "       'consulta_digito_verificador', 'cpf', 'data_inscricao',\n",
       "       'data_nascimento', 'nome', 'nome_civil', 'nome_social',\n",
       "       'normalizado_ano_obito', 'normalizado_consulta_datahora',\n",
       "       'normalizado_cpf', 'normalizado_data_inscricao',\n",
       "       'normalizado_data_nascimento', 'origem', 'qrcode_url',\n",
       "       'situacao_cadastral', 'site_receipt'],\n",
       "      dtype='object')"
      ]
     },
     "execution_count": 19,
     "metadata": {},
     "output_type": "execute_result"
    }
   ],
   "source": [
    "dados.columns"
   ]
  },
  {
   "cell_type": "markdown",
   "metadata": {},
   "source": [
    "O sistema retorna o ano de óbito e a situação cadastral, informações essenciais para determinar se o paciente oncológico está vivo ou falecido."
   ]
  },
  {
   "cell_type": "code",
   "execution_count": 23,
   "metadata": {},
   "outputs": [
    {
     "data": {
      "text/html": [
       "<div>\n",
       "<style scoped>\n",
       "    .dataframe tbody tr th:only-of-type {\n",
       "        vertical-align: middle;\n",
       "    }\n",
       "\n",
       "    .dataframe tbody tr th {\n",
       "        vertical-align: top;\n",
       "    }\n",
       "\n",
       "    .dataframe thead th {\n",
       "        text-align: right;\n",
       "    }\n",
       "</style>\n",
       "<table border=\"1\" class=\"dataframe\">\n",
       "  <thead>\n",
       "    <tr style=\"text-align: right;\">\n",
       "      <th></th>\n",
       "      <th>ano_obito</th>\n",
       "      <th>consulta_comprovante</th>\n",
       "      <th>consulta_datahora</th>\n",
       "      <th>consulta_digito_verificador</th>\n",
       "      <th>cpf</th>\n",
       "      <th>data_inscricao</th>\n",
       "      <th>data_nascimento</th>\n",
       "      <th>nome</th>\n",
       "      <th>nome_civil</th>\n",
       "      <th>nome_social</th>\n",
       "      <th>normalizado_ano_obito</th>\n",
       "      <th>normalizado_consulta_datahora</th>\n",
       "      <th>normalizado_cpf</th>\n",
       "      <th>normalizado_data_inscricao</th>\n",
       "      <th>normalizado_data_nascimento</th>\n",
       "      <th>origem</th>\n",
       "      <th>qrcode_url</th>\n",
       "      <th>situacao_cadastral</th>\n",
       "      <th>site_receipt</th>\n",
       "    </tr>\n",
       "  </thead>\n",
       "  <tbody>\n",
       "    <tr>\n",
       "      <th>0</th>\n",
       "      <td>None</td>\n",
       "      <td>DF00.ADAA.5E0A.D463</td>\n",
       "      <td>21/11/2024 15:30:16</td>\n",
       "      <td>00</td>\n",
       "      <td>078.376.863-06</td>\n",
       "      <td>26/11/2014</td>\n",
       "      <td>26/10/2000</td>\n",
       "      <td>ALLAN PEREIRA FENELON</td>\n",
       "      <td></td>\n",
       "      <td></td>\n",
       "      <td>0</td>\n",
       "      <td>21/11/2024 15:30:16</td>\n",
       "      <td>07837686306</td>\n",
       "      <td>26/11/2014</td>\n",
       "      <td>26/10/2000</td>\n",
       "      <td>web</td>\n",
       "      <td>https://servicos.receita.fazenda.gov.br/Servic...</td>\n",
       "      <td>REGULAR</td>\n",
       "      <td>https://us-central1-infosimples-data.cloudfunc...</td>\n",
       "    </tr>\n",
       "  </tbody>\n",
       "</table>\n",
       "</div>"
      ],
      "text/plain": [
       "  ano_obito consulta_comprovante    consulta_datahora  \\\n",
       "0      None  DF00.ADAA.5E0A.D463  21/11/2024 15:30:16   \n",
       "\n",
       "  consulta_digito_verificador             cpf data_inscricao data_nascimento  \\\n",
       "0                          00  078.376.863-06     26/11/2014      26/10/2000   \n",
       "\n",
       "                    nome nome_civil nome_social  normalizado_ano_obito  \\\n",
       "0  ALLAN PEREIRA FENELON                                             0   \n",
       "\n",
       "  normalizado_consulta_datahora normalizado_cpf normalizado_data_inscricao  \\\n",
       "0           21/11/2024 15:30:16     07837686306                 26/11/2014   \n",
       "\n",
       "  normalizado_data_nascimento origem  \\\n",
       "0                  26/10/2000    web   \n",
       "\n",
       "                                          qrcode_url situacao_cadastral  \\\n",
       "0  https://servicos.receita.fazenda.gov.br/Servic...            REGULAR   \n",
       "\n",
       "                                        site_receipt  \n",
       "0  https://us-central1-infosimples-data.cloudfunc...  "
      ]
     },
     "execution_count": 23,
     "metadata": {},
     "output_type": "execute_result"
    }
   ],
   "source": [
    "dados"
   ]
  },
  {
   "cell_type": "markdown",
   "metadata": {},
   "source": [
    "Com essa automação, é possível atualizar o banco de dados de forma rápida e eficaz, garantindo maior agilidade no processo.\n",
    "\n",
    "Observação: Recomenda-se não excluir os registros de pacientes falecidos do banco de dados hospitalar. Em vez disso, sugere-se a criação de uma coluna adicional indicando o status de vida do paciente, onde o valor seria True para os vivos e False para os falecidos. Essa abordagem mantém o histórico completo e facilita análises futuras."
   ]
  },
  {
   "cell_type": "code",
   "execution_count": 27,
   "metadata": {},
   "outputs": [
    {
     "name": "stdout",
     "output_type": "stream",
     "text": [
      "A pessoa está viva\n"
     ]
    }
   ],
   "source": [
    "if dados['ano_obito'] is None:\n",
    "    print('A pessoa veio a óbito')\n",
    "    # REGISTRAR NO BANCO DE DADOS\n",
    "else:\n",
    "    print('A pessoa está viva')"
   ]
  },
  {
   "cell_type": "markdown",
   "metadata": {},
   "source": [
    "### Relatório feito por: Allan Pereira Fenelon\n"
   ]
  },
  {
   "cell_type": "code",
   "execution_count": 4,
   "metadata": {},
   "outputs": [
    {
     "name": "stdout",
     "output_type": "stream",
     "text": [
      "Ocorreu um erro: 403 Client Error: Forbidden for url: https://h-apigateway.conectagov.estaleiro.serpro.gov.br/oauth2/jwt-token\n"
     ]
    }
   ],
   "source": [
    "import base64\n",
    "import json\n",
    "import requests\n",
    "from datetime import datetime\n",
    "\n",
    "# Constantes\n",
    "SERVER_URL = \"https://h-apigateway.conectagov.estaleiro.serpro.gov.br\"\n",
    "TOKEN_REQUEST_URL = f\"{SERVER_URL}/oauth2/jwt-token\"\n",
    "CONSULTA_CPF_URL = f\"{SERVER_URL}/api-cpf-light/v2/consulta/cpf\"\n",
    "CLIENT_ID = \"8ddc46f2-f6a3-4077-9e04-74b55de934a5\"\n",
    "CLIENT_SECRET = \"06d4aaac-1412-45f6-bd7c-38b2bef0d706\"\n",
    "\n",
    "\n",
    "def base64_encoded_authentication():\n",
    "    \"\"\"Gera a string de autenticação em Base64\"\"\"\n",
    "    credentials = f\"{CLIENT_ID}:{CLIENT_SECRET}\"\n",
    "    return base64.b64encode(credentials.encode()).decode()\n",
    "\n",
    "\n",
    "def get_token():\n",
    "    \"\"\"Obtém o token de acesso OAuth2\"\"\"\n",
    "    headers = {\n",
    "        \"Content-Type\": \"application/x-www-form-urlencoded\",\n",
    "        \"Authorization\": f\"Basic {base64_encoded_authentication()}\",\n",
    "    }\n",
    "    data = {\n",
    "        \"grant_type\": \"client_credentials\",\n",
    "    }\n",
    "    response = requests.post(TOKEN_REQUEST_URL, headers=headers, data=data)\n",
    "    response.raise_for_status()\n",
    "    return response.json()\n",
    "\n",
    "\n",
    "def get_token_expiration(jwt_token):\n",
    "    \"\"\"Extrai a data de expiração do token JWT\"\"\"\n",
    "    # JWT é composto por três partes separadas por '.'\n",
    "    _, payload, _ = jwt_token.split('.')\n",
    "    # Decodifica o payload do token\n",
    "    payload_decoded = base64.urlsafe_b64decode(payload + \"==\").decode()\n",
    "    payload_data = json.loads(payload_decoded)\n",
    "    exp_timestamp = payload_data.get(\"exp\")\n",
    "    return datetime.fromtimestamp(exp_timestamp)\n",
    "\n",
    "\n",
    "def consulta_cpf(token, lista_cpf):\n",
    "    \"\"\"Consulta a API CPF Light\"\"\"\n",
    "    headers = {\n",
    "        \"Content-Type\": \"application/json\",\n",
    "        \"x-cpf-usuario\": \"00000000191\",  # Substituir pelo CPF do usuário que consulta\n",
    "        \"Authorization\": f\"Bearer {token}\",\n",
    "    }\n",
    "    body = {\n",
    "        \"listaCpf\": lista_cpf\n",
    "    }\n",
    "    response = requests.post(CONSULTA_CPF_URL, headers=headers, json=body)\n",
    "    response.raise_for_status()\n",
    "    return response.json()\n",
    "\n",
    "\n",
    "def main():\n",
    "    try:\n",
    "        # Obter o token de acesso\n",
    "        token_data = get_token()\n",
    "        access_token = token_data[\"access_token\"]\n",
    "\n",
    "        # Exibir a data de expiração do token\n",
    "        expiration_date = get_token_expiration(access_token)\n",
    "        print(f\"Token expira em: {expiration_date}\")\n",
    "\n",
    "        # Consultar CPFs\n",
    "        lista_cpf = [\"07837686306\"]\n",
    "        resultado = consulta_cpf(access_token, lista_cpf)\n",
    "        print(\"Resultado da consulta:\", json.dumps(resultado, indent=2))\n",
    "        \n",
    "    except Exception as e:\n",
    "        print(\"Ocorreu um erro:\", str(e))\n",
    "\n",
    "\n",
    "if __name__ == \"__main__\":\n",
    "    main()\n"
   ]
  }
 ],
 "metadata": {
  "kernelspec": {
   "display_name": "Python 3",
   "language": "python",
   "name": "python3"
  },
  "language_info": {
   "codemirror_mode": {
    "name": "ipython",
    "version": 3
   },
   "file_extension": ".py",
   "mimetype": "text/x-python",
   "name": "python",
   "nbconvert_exporter": "python",
   "pygments_lexer": "ipython3",
   "version": "3.12.5"
  }
 },
 "nbformat": 4,
 "nbformat_minor": 2
}
