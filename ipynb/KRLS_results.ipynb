{
 "cells": [
  {
   "cell_type": "code",
   "execution_count": 1,
   "metadata": {},
   "outputs": [],
   "source": [
    "import statsmodels.api as sm\n",
    "from pmdarima import auto_arima\n",
    "import pandas as pd\n",
    "import numpy as np\n",
    "import matplotlib.pyplot as plt\n",
    "import plotly.express as px\n",
    "import seaborn as sns\n",
    "from sklearn.model_selection import train_test_split, TimeSeriesSplit\n",
    "from sklearn.linear_model import LinearRegression\n",
    "from statsmodels.tsa.arima.model import ARIMA\n",
    "from xgboost import XGBRegressor\n",
    "from sklearn.metrics import mean_squared_error\n",
    "import warnings\n",
    "from scipy import stats\n",
    "from sklearn.metrics import mean_absolute_error, mean_squared_error, r2_score\n",
    "import timeseriesmetrics as tss\n",
    "\n",
    "import timeseriesmetrics as mt\n",
    "\n",
    "warnings.filterwarnings('ignore')\n",
    "\n",
    "# DEFININDO O NOSSO PATH COM OS DADOS\n",
    "DATA_PATH_TSLA = '../bds/TSLA.csv'\n",
    "DATA_PATH_BYD = '../bds/BYDDY.csv'\n"
   ]
  },
  {
   "cell_type": "code",
   "execution_count": 2,
   "metadata": {},
   "outputs": [],
   "source": [
    "TESLA = pd.read_csv(DATA_PATH_TSLA ,sep=',',usecols=[0,4])\n",
    "BYD = pd.read_csv(DATA_PATH_BYD ,sep=',',usecols=[0,4])"
   ]
  },
  {
   "cell_type": "code",
   "execution_count": 3,
   "metadata": {},
   "outputs": [],
   "source": [
    "from sklearn.metrics import mean_absolute_error, mean_squared_error, r2_score\n",
    "import timeseriesmetrics as tss\n",
    "\n",
    "def calcular_metricas_regressao(y_true, y_pred):\n",
    "    # Certifique-se de que y_true e y_pred são arrays de uma única dimensão\n",
    "    y_true = np.array(y_true).flatten()  \n",
    "    y_pred = np.array(y_pred).flatten()\n",
    "    \n",
    "    # Calcula as métricas\n",
    "    mae = mean_absolute_error(y_true, y_pred)\n",
    "    mse = mean_squared_error(y_true, y_pred)\n",
    "    rmse = mean_squared_error(y_true, y_pred, squared=False)  # Raiz do MSE\n",
    "    mape = tss.mape(y_true, y_pred)\n",
    "    theil = tss.theil(y_true, y_pred)\n",
    "    arv = tss.arv(y_true, y_pred)\n",
    "    wpocid = tss.wpocid(y_true, y_pred)\n",
    "    \n",
    "    # Verifica se há mais de um ponto para calcular o R²\n",
    "    if len(y_true) > 1:\n",
    "        r2 = 1 - (np.sum((y_true - y_pred) ** 2) / np.sum((y_true - np.mean(y_true)) ** 2))  # Coeficiente de determinação\n",
    "    else:\n",
    "        r2 = 'N/A'  # Não aplicável para previsões de um único ponto\n",
    "    \n",
    "    # Cria um DataFrame com as métricas\n",
    "    metrics_df = pd.DataFrame({\n",
    "        'Métrica': ['MAE', 'MSE', 'MAPE','RMSE', 'R²','THEIL','ARV','WPOCID'],\n",
    "        'Valor': [mae, mse, mape, rmse, r2, theil, arv, wpocid]\n",
    "    })\n",
    "    \n",
    "    return metrics_df"
   ]
  },
  {
   "cell_type": "code",
   "execution_count": 4,
   "metadata": {},
   "outputs": [],
   "source": [
    "# acf, ci = sm.tsa.acf(endog, alpha=0.05)\n",
    "def getSignificantLags(y, nLags = 5, alpha=0.05):\n",
    "    pac, pac_ci = sm.tsa.pacf(x=y, nlags=nLags, alpha=alpha)\n",
    "    pd.DataFrame(pac)[1:].plot(kind='bar', legend='pacf',\n",
    "                               xlabel='lag', ylabel='pacf');\n",
    "    significantLags = []\n",
    "    for i in range(1, len(pac)):\n",
    "        # print(pac[i], pac_ci[i][0], pac_ci[i][1])\n",
    "        if pac[i] < pac_ci[i][0] - pac[i] or pac[i] > pac_ci[i][1] - pac[i]:\n",
    "            significantLags.append(i)\n",
    "    print('significantLags:', significantLags)\n",
    "    return significantLags\n",
    "\n",
    "def appendLagVariables(yNm, significantLags, df, dropna=True):\n",
    "    prefix = yNm.replace(')', '')\n",
    "    df = df.copy()\n",
    "    for lag in significantLags:\n",
    "        varNm = '('+prefix+'-'+str(lag)+')'\n",
    "        # nDj = pd.concat([nDj, nDj[['e1(t)']].shift(lag)], axis=1)\n",
    "        df[varNm] = df[yNm].shift(lag)\n",
    "        # nDj.columns = nDj.columns + [varNm]\n",
    "    if dropna:\n",
    "        df.dropna(axis=0, inplace=True)\n",
    "    display(df.head(2))\n",
    "    return df"
   ]
  },
  {
   "cell_type": "code",
   "execution_count": 5,
   "metadata": {},
   "outputs": [
    {
     "name": "stdout",
     "output_type": "stream",
     "text": [
      "significantLags: [1, 5, 8, 10]\n",
      "significantLags: [1, 53, 55, 57]\n"
     ]
    },
    {
     "data": {
      "text/html": [
       "<div>\n",
       "<style scoped>\n",
       "    .dataframe tbody tr th:only-of-type {\n",
       "        vertical-align: middle;\n",
       "    }\n",
       "\n",
       "    .dataframe tbody tr th {\n",
       "        vertical-align: top;\n",
       "    }\n",
       "\n",
       "    .dataframe thead th {\n",
       "        text-align: right;\n",
       "    }\n",
       "</style>\n",
       "<table border=\"1\" class=\"dataframe\">\n",
       "  <thead>\n",
       "    <tr style=\"text-align: right;\">\n",
       "      <th></th>\n",
       "      <th>Date</th>\n",
       "      <th>Close</th>\n",
       "      <th>(Close-1)</th>\n",
       "      <th>(Close-5)</th>\n",
       "      <th>(Close-8)</th>\n",
       "      <th>(Close-10)</th>\n",
       "    </tr>\n",
       "  </thead>\n",
       "  <tbody>\n",
       "    <tr>\n",
       "      <th>10</th>\n",
       "      <td>2020-09-16</td>\n",
       "      <td>147.253326</td>\n",
       "      <td>149.919998</td>\n",
       "      <td>122.093330</td>\n",
       "      <td>135.666672</td>\n",
       "      <td>158.350006</td>\n",
       "    </tr>\n",
       "    <tr>\n",
       "      <th>11</th>\n",
       "      <td>2020-09-17</td>\n",
       "      <td>141.143326</td>\n",
       "      <td>147.253326</td>\n",
       "      <td>123.779999</td>\n",
       "      <td>139.440002</td>\n",
       "      <td>149.123337</td>\n",
       "    </tr>\n",
       "  </tbody>\n",
       "</table>\n",
       "</div>"
      ],
      "text/plain": [
       "          Date       Close   (Close-1)   (Close-5)   (Close-8)  (Close-10)\n",
       "10  2020-09-16  147.253326  149.919998  122.093330  135.666672  158.350006\n",
       "11  2020-09-17  141.143326  147.253326  123.779999  139.440002  149.123337"
      ]
     },
     "metadata": {},
     "output_type": "display_data"
    },
    {
     "data": {
      "text/html": [
       "<div>\n",
       "<style scoped>\n",
       "    .dataframe tbody tr th:only-of-type {\n",
       "        vertical-align: middle;\n",
       "    }\n",
       "\n",
       "    .dataframe tbody tr th {\n",
       "        vertical-align: top;\n",
       "    }\n",
       "\n",
       "    .dataframe thead th {\n",
       "        text-align: right;\n",
       "    }\n",
       "</style>\n",
       "<table border=\"1\" class=\"dataframe\">\n",
       "  <thead>\n",
       "    <tr style=\"text-align: right;\">\n",
       "      <th></th>\n",
       "      <th>Date</th>\n",
       "      <th>Close</th>\n",
       "      <th>(Close-1)</th>\n",
       "      <th>(Close-53)</th>\n",
       "      <th>(Close-55)</th>\n",
       "      <th>(Close-57)</th>\n",
       "    </tr>\n",
       "  </thead>\n",
       "  <tbody>\n",
       "    <tr>\n",
       "      <th>57</th>\n",
       "      <td>2020-11-20</td>\n",
       "      <td>47.450001</td>\n",
       "      <td>45.340000</td>\n",
       "      <td>20.82</td>\n",
       "      <td>21.08</td>\n",
       "      <td>22.350000</td>\n",
       "    </tr>\n",
       "    <tr>\n",
       "      <th>58</th>\n",
       "      <td>2020-11-23</td>\n",
       "      <td>52.650002</td>\n",
       "      <td>47.450001</td>\n",
       "      <td>20.73</td>\n",
       "      <td>20.93</td>\n",
       "      <td>22.299999</td>\n",
       "    </tr>\n",
       "  </tbody>\n",
       "</table>\n",
       "</div>"
      ],
      "text/plain": [
       "          Date      Close  (Close-1)  (Close-53)  (Close-55)  (Close-57)\n",
       "57  2020-11-20  47.450001  45.340000       20.82       21.08   22.350000\n",
       "58  2020-11-23  52.650002  47.450001       20.73       20.93   22.299999"
      ]
     },
     "metadata": {},
     "output_type": "display_data"
    },
    {
     "data": {
      "image/png": "[encoded data removed]",
      "text/plain": [
       "<Figure size 640x480 with 1 Axes>"
      ]
     },
     "metadata": {},
     "output_type": "display_data"
    },
    {
     "data": {
      "image/png": "[encoded data removed]",
      "text/plain": [
       "<Figure size 640x480 with 1 Axes>"
      ]
     },
     "metadata": {},
     "output_type": "display_data"
    }
   ],
   "source": [
    "tesla_significantLags = getSignificantLags(y=TESLA['Close'], nLags = 15, alpha=0.05)\n",
    "byd_significantLags = getSignificantLags(y=BYD['Close'], nLags = 100, alpha=0.05)\n",
    "\n",
    "TM_tesla = appendLagVariables(yNm='Close', significantLags = tesla_significantLags, df = TESLA, dropna=True)\n",
    "TM_byd = appendLagVariables(yNm='Close', significantLags = byd_significantLags, df = BYD, dropna=True)"
   ]
  },
  {
   "cell_type": "code",
   "execution_count": 6,
   "metadata": {},
   "outputs": [],
   "source": [
    "df_tesla = TM_tesla.dropna()\n",
    "# Separar features e target\n",
    "X = df_tesla.drop('Close', axis=1)\n",
    "X = X.drop('Date', axis=1)\n",
    "y = df_tesla['Close']\n",
    "# Dividir os dados em treino e teste\n",
    "X_train_tesla, X_test_tesla, y_train_tesla, y_test_tesla = train_test_split(X, y, test_size=0.2, shuffle=False)"
   ]
  },
  {
   "cell_type": "code",
   "execution_count": 7,
   "metadata": {},
   "outputs": [],
   "source": [
    "from krlst_implement import Krls_t as KRLST"
   ]
  },
  {
   "cell_type": "code",
   "execution_count": null,
   "metadata": {},
   "outputs": [],
   "source": []
  }
 ],
 "metadata": {
  "kernelspec": {
   "display_name": "Python 3",
   "language": "python",
   "name": "python3"
  },
  "language_info": {
   "codemirror_mode": {
    "name": "ipython",
    "version": 3
   },
   "file_extension": ".py",
   "mimetype": "text/x-python",
   "name": "python",
   "nbconvert_exporter": "python",
   "pygments_lexer": "ipython3",
   "version": "3.12.5"
  }
 },
 "nbformat": 4,
 "nbformat_minor": 2
}
