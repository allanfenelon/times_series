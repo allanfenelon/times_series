{
 "cells": [
  {
   "attachments": {},
   "cell_type": "markdown",
   "metadata": {},
   "source": [
    "# Preliminary"
   ]
  },
  {
   "cell_type": "code",
   "execution_count": 1,
   "metadata": {},
   "outputs": [],
   "source": [
    "from Auxiliar import *\n",
    "from Preprocessing import *\n",
    "from Modeling import *\n"
   ]
  },
  {
   "attachments": {},
   "cell_type": "markdown",
   "metadata": {},
   "source": [
    "## Input/Output Process object"
   ]
  },
  {
   "cell_type": "code",
   "execution_count": null,
   "metadata": {},
   "outputs": [],
   "source": [
    "iops = InputOutputProcess(root='D:/OneDrive - Universidade Federal do Cariri - UFCA/Drive/UFCA/Ensino/CRAN R_aulas/RClasses/',\n",
    "                          caseLabel=\"titanic\",\n",
    "                          dataFolderNm=\"data/\",\n",
    "                          resultsFolderNm=\"results/\",\n",
    "                          dataDelimiter=',')\n",
    "# iops.readData(phase='train', isToView=False)\n",
    "iops.train_val_data.head()\n"
   ]
  },
  {
   "attachments": {},
   "cell_type": "markdown",
   "metadata": {},
   "source": [
    "# Preprocessing"
   ]
  },
  {
   "cell_type": "code",
   "execution_count": null,
   "metadata": {},
   "outputs": [],
   "source": [
    "pp = Preprocessing(iops=iops,\n",
    "                   targetsNms='Survived',\n",
    "                   qlVarsNms=['Pclass', 'Sex', 'Embarked'],\n",
    "                   qtVarsNms=['Fare', 'Age', 'Parch', 'SibSp'], \n",
    "                   targetsAreBinary = True)\n",
    "pp.tv_split()\n",
    "pp.transform_tv_x()\n",
    "pp.t_train_x.head(3)\n"
   ]
  },
  {
   "attachments": {},
   "cell_type": "markdown",
   "metadata": {},
   "source": [
    "# Modeling"
   ]
  },
  {
   "cell_type": "code",
   "execution_count": null,
   "metadata": {},
   "outputs": [],
   "source": [
    "modeling = Modeling(pp)"
   ]
  },
  {
   "cell_type": "code",
   "execution_count": null,
   "metadata": {},
   "outputs": [],
   "source": [
    "modeling.compute_model(label='mTree0', modelObj=DecisionTreeRegressor(random_state=0))\n",
    "modeling.compute_model(label='mTree1', modelObj=DecisionTreeRegressor(random_state=0, max_depth=5))\n",
    "modeling.compute_model(label='mTree2', modelObj=DecisionTreeRegressor(random_state=0, max_depth=3))\n"
   ]
  },
  {
   "cell_type": "code",
   "execution_count": null,
   "metadata": {},
   "outputs": [],
   "source": [
    "modeling.compute_model(label = 'oTree0', modelObj=DecisionTreeRegressor(random_state=0),\n",
    "                       optDists={'splitter': [\"best\", \"random\"],  # categorical parameter\n",
    "                                  # integer valued parameter\n",
    "                                  'max_depth': (1, pp.t_train_x.shape[1]),\n",
    "                                  'min_samples_split': (np.max([2, round(.001*pp.t_train_x.shape[0])]),\n",
    "                                                        np.min([20, round(.01*pp.t_train_x.shape[0])])),\n",
    "                                  'min_samples_leaf':  (np.max([2, round(.001*pp.t_train_x.shape[0])]),\n",
    "                                                        np.min([20, round(.01*pp.t_train_x.shape[0])])),\n",
    "                                  # ,\n",
    "                                  'max_features': (1, pp.t_train_x.shape[1])\n",
    "                                  # log-uniform: understand as search over p = exp(x) by varying x\n",
    "                                  #  'ccp_alpha': (1e-10, 1, 'log-uniform')\n",
    "                                  }, verbose=False)\n"
   ]
  },
  {
   "attachments": {},
   "cell_type": "markdown",
   "metadata": {},
   "source": [
    "# Save Kaggle Submission Files"
   ]
  },
  {
   "cell_type": "code",
   "execution_count": null,
   "metadata": {},
   "outputs": [],
   "source": [
    "ks = KaggleSubmission(modelingObj=modeling, idVarNm='PassengerId')\n",
    "ks.save_Kaggle_submission_file()"
   ]
  }
 ],
 "metadata": {
  "kernelspec": {
   "display_name": "Python 3",
   "language": "python",
   "name": "python3"
  },
  "language_info": {
   "codemirror_mode": {
    "name": "ipython",
    "version": 3
   },
   "file_extension": ".py",
   "mimetype": "text/x-python",
   "name": "python",
   "nbconvert_exporter": "python",
   "pygments_lexer": "ipython3",
   "version": "3.10.6"
  },
  "orig_nbformat": 4,
  "vscode": {
   "interpreter": {
    "hash": "26de051ba29f2982a8de78e945f0abaf191376122a1563185a90213a26c5da77"
   }
  }
 },
 "nbformat": 4,
 "nbformat_minor": 2
}
