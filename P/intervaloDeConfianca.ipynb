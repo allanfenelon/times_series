{
 "cells": [
  {
   "cell_type": "code",
   "execution_count": 1,
   "metadata": {},
   "outputs": [],
   "source": [
    "#link for probability distribution functions https://docs.scipy.org/doc/scipy-0.16.1/reference/stats.html\n",
    "import numpy as np\n",
    "import pandas as pd\n",
    "from scipy.stats import norm\n",
    "from scipy.stats import t\n",
    "'''\n",
    "a: alpha (nível de confiança equivale a 1-a)\n",
    "N: Tamanho da população\n",
    "sd: desvio-padrão envolvido no cálculo\n",
    "sdSampleSize: tamanho da amostra da qual obteve-se sd\n",
    "isToProportion: se True, estuda-se o tamanho amostral para proporção. \n",
    "Se False, esrtuda a média em geral. \n",
    "'''\n",
    "def confidenceInterval(sample = None, confidenceLevel=None, N=None\n",
    "                              , populationalSd=None):\n",
    "    n=len(sample)\n",
    "    sampleMean = pd.Series(sample).mean(skipna=True)\n",
    "    sampleMean = round(sampleMean, 3)\n",
    "    v_1_alpha_2 = 1-(1-confidenceLevel)/2; \n",
    "    quant_m = None; text=\"\"; sd = None\n",
    "    if populationalSd is not None:#sd is the parameter value\n",
    "        quant_m = round(norm.ppf(v_1_alpha_2), 2)\n",
    "        sd = populationalSd\n",
    "    else:#sd is an  estimate of the parameter\n",
    "        quant_m = round(t.ppf(v_1_alpha_2, df=(n-1)), 3)#QUANTIL DA T-STUDENT\n",
    "        text += \", df=\"+ str(n-1)\n",
    "        sd = pd.Series(sample).std(skipna=True)\n",
    "        sd = round(sd, 3)\n",
    "    correctionFactor = np.sqrt((N-n)/(N-1)) if N is not None else 1\n",
    "    correctionFactor = round(correctionFactor, 3)\n",
    "    sd_sampleMean = (sd/np.sqrt(n))*correctionFactor\n",
    "    sd_sampleMean = round(sd_sampleMean, 3)\n",
    "    lower = sampleMean - quant_m*sd_sampleMean\n",
    "    upper = sampleMean + quant_m*sd_sampleMean\n",
    "    lower = round(lower, 3)\n",
    "    upper = round(upper, 3)\n",
    "    print(\"quant_m=\", quant_m, \", sampleMean=\", sampleMean\n",
    "                , \", sd_sampleMean=\",sd_sampleMean\n",
    "                , \", lower=\", lower, \", upper=\", upper, text, sep=\"\")\n",
    "    #print(paste(, sep=\"\"))\n",
    "    # return(list(lower=lower, upper=upper))\n",
    "\n"
   ]
  },
  {
   "cell_type": "code",
   "execution_count": 2,
   "metadata": {},
   "outputs": [
    {
     "name": "stdout",
     "output_type": "stream",
     "text": [
      "quant_m=1.96, sampleMean=0.661, sd_sampleMean=0.224, lower=0.222, upper=1.1\n"
     ]
    },
    {
     "data": {
      "image/png": "[encoded data removed]",
      "text/plain": [
       "<Figure size 640x480 with 1 Axes>"
      ]
     },
     "metadata": {},
     "output_type": "display_data"
    }
   ],
   "source": [
    "#MÉDIA GERAL\n",
    "#link for random generation https://numpy.org/doc/stable/reference/random/generated/numpy.random.Generator.beta.html#numpy.random.Generator.beta\n",
    "sampleContinuous = np.random.default_rng().exponential(scale=1, size=20)\n",
    "pd.Series(sampleContinuous).mean(skipna=True)\n",
    "pd.Series(sampleContinuous).plot(kind=\"box\");\n",
    "\n",
    "#MÉDIA GERAL - POPULAÇÃO INFINITA E VARIÂNCIA CONHECIDA\n",
    "confidenceInterval(sample = sampleContinuous, confidenceLevel = .95\n",
    "                   , N = None, populationalSd = 1)\n"
   ]
  },
  {
   "cell_type": "code",
   "execution_count": 4,
   "metadata": {},
   "outputs": [
    {
     "name": "stdout",
     "output_type": "stream",
     "text": [
      "quant_m=2.093, sampleMean=0.661, sd_sampleMean=0.148, lower=0.351, upper=0.971, df=19\n"
     ]
    }
   ],
   "source": [
    "#MÉDIA GERAL - POPULAÇÃO INFINITA E VARIÂNCIA DESCONHECIDA\n",
    "confidenceInterval(sample = sampleContinuous, confidenceLevel = .95\n",
    "                   , N = None, populationalSd = None)\n"
   ]
  },
  {
   "cell_type": "code",
   "execution_count": 3,
   "metadata": {},
   "outputs": [
    {
     "name": "stdout",
     "output_type": "stream",
     "text": [
      "quant_m=2.093, sampleMean=0.661, sd_sampleMean=0.133, lower=0.383, upper=0.939, df=19\n"
     ]
    }
   ],
   "source": [
    "#MÉDIA GERAL - POPULAÇÃO FINITA E VARIÂNCIA DESCONHECIDA\n",
    "confidenceInterval(sample = sampleContinuous, confidenceLevel = .95\n",
    "                   , N = 100, populationalSd = None)\n"
   ]
  },
  {
   "cell_type": "code",
   "execution_count": 13,
   "metadata": {},
   "outputs": [],
   "source": [
    "#binarySample = sample\n",
    "def confidenceIntervalForProportion (binarySample = None, N=None, \n",
    "                                          confidendeLevel = .93, isConservative=True):\n",
    "    p_obs = pd.Series(binarySample).mean(skipna=True)\n",
    "    n= len(binarySample)\n",
    "    correctionFactor = np.sqrt((N-n)/(N-1)) if N is not None else 1\n",
    "    sigma = .5 if isConservative else np.sqrt(p_obs*(1-p_obs))\n",
    "    sigma_p = (sigma/np.sqrt(n)) *correctionFactor\n",
    "    alpha = 1 - confidendeLevel\n",
    "    z = norm.ppf(1-alpha/2)\n",
    "    l = p_obs - z*sigma_p\n",
    "    u = p_obs + z*sigma_p\n",
    "    p_obs = round(p_obs, 3)\n",
    "    l = round(l, 3) if l >= 0 else 0\n",
    "    u = round(u, 3) if u <=1 else 1\n",
    "    print(\"p_obs, (l, u): \" + str(p_obs)+ \", [\"+ str(l)+ \", \"+ str(u)+ \"]\")"
   ]
  },
  {
   "cell_type": "code",
   "execution_count": 16,
   "metadata": {},
   "outputs": [
    {
     "name": "stdout",
     "output_type": "stream",
     "text": [
      "p_obs, (l, u): 0.25, [0, 0.618]\n"
     ]
    }
   ],
   "source": [
    "#PROPORÇÃO\n",
    "binarySample = np.random.default_rng().binomial(n = 1, p=.3, size = 20)\n",
    "#PROPORÇÃO - POPULAÇÃO INFINITA E ABORDAGEM CONSERVADORA\n",
    "confidenceIntervalForProportion(binarySample = binarySample, N = None,\n",
    "                                isConservative = True, confidendeLevel = .999)\n"
   ]
  },
  {
   "cell_type": "code",
   "execution_count": 17,
   "metadata": {},
   "outputs": [
    {
     "name": "stdout",
     "output_type": "stream",
     "text": [
      "p_obs, (l, u): 0.25, [0, 0.569]\n"
     ]
    }
   ],
   "source": [
    "#PROPORÇÃO - POPULAÇÃO INFINITA E ABORDAGEM OUSADA\n",
    "confidenceIntervalForProportion(binarySample = binarySample, N = None,\n",
    "                                isConservative = False, confidendeLevel = .999)"
   ]
  },
  {
   "cell_type": "code",
   "execution_count": 18,
   "metadata": {},
   "outputs": [
    {
     "name": "stdout",
     "output_type": "stream",
     "text": [
      "p_obs, (l, u): 0.25, [0.092, 0.408]\n"
     ]
    }
   ],
   "source": [
    "#PROPORÇÃO - POPULAÇÃO FINITA E ABORDAGEM OUSADA\n",
    "confidenceIntervalForProportion(binarySample = binarySample, N = 100,\n",
    "                                isConservative = False, confidendeLevel = .93)\n"
   ]
  }
 ],
 "metadata": {
  "kernelspec": {
   "display_name": "tf",
   "language": "python",
   "name": "python3"
  },
  "language_info": {
   "codemirror_mode": {
    "name": "ipython",
    "version": 3
   },
   "file_extension": ".py",
   "mimetype": "text/x-python",
   "name": "python",
   "nbconvert_exporter": "python",
   "pygments_lexer": "ipython3",
   "version": "3.9.16"
  }
 },
 "nbformat": 4,
 "nbformat_minor": 2
}
