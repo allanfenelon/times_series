{
 "cells": [
  {
   "cell_type": "code",
   "execution_count": 1,
   "metadata": {},
   "outputs": [],
   "source": [
    "#VARIÁVEIS ALEATÓRIAS CONTÍNUAS\n",
    "#link for random generation https://numpy.org/doc/stable/reference/random/generated/numpy.random.Generator.beta.html#numpy.random.Generator.beta\n",
    "#link for probability distribution functions https://docs.scipy.org/doc/scipy-0.16.1/reference/stats.html\n",
    "import pandas as pd\n",
    "# !pip install scipy"
   ]
  },
  {
   "cell_type": "code",
   "execution_count": 3,
   "metadata": {},
   "outputs": [
    {
     "name": "stdout",
     "output_type": "stream",
     "text": [
      "************* Continuous Uniform PROBABILITY DISTRIBUTIONS *************\n"
     ]
    },
    {
     "data": {
      "text/html": [
       "<div>\n",
       "<style scoped>\n",
       "    .dataframe tbody tr th:only-of-type {\n",
       "        vertical-align: middle;\n",
       "    }\n",
       "\n",
       "    .dataframe tbody tr th {\n",
       "        vertical-align: top;\n",
       "    }\n",
       "\n",
       "    .dataframe thead th {\n",
       "        text-align: right;\n",
       "    }\n",
       "</style>\n",
       "<table border=\"1\" class=\"dataframe\">\n",
       "  <thead>\n",
       "    <tr style=\"text-align: right;\">\n",
       "      <th></th>\n",
       "      <th>x</th>\n",
       "      <th>f(x)</th>\n",
       "      <th>R(x)</th>\n",
       "    </tr>\n",
       "  </thead>\n",
       "  <tbody>\n",
       "    <tr>\n",
       "      <th>0</th>\n",
       "      <td>1</td>\n",
       "      <td>0.166667</td>\n",
       "      <td>1.000000</td>\n",
       "    </tr>\n",
       "    <tr>\n",
       "      <th>1</th>\n",
       "      <td>2</td>\n",
       "      <td>0.166667</td>\n",
       "      <td>0.833333</td>\n",
       "    </tr>\n",
       "    <tr>\n",
       "      <th>2</th>\n",
       "      <td>3</td>\n",
       "      <td>0.166667</td>\n",
       "      <td>0.666667</td>\n",
       "    </tr>\n",
       "    <tr>\n",
       "      <th>3</th>\n",
       "      <td>4</td>\n",
       "      <td>0.166667</td>\n",
       "      <td>0.500000</td>\n",
       "    </tr>\n",
       "    <tr>\n",
       "      <th>4</th>\n",
       "      <td>5</td>\n",
       "      <td>0.166667</td>\n",
       "      <td>0.333333</td>\n",
       "    </tr>\n",
       "    <tr>\n",
       "      <th>5</th>\n",
       "      <td>6</td>\n",
       "      <td>0.166667</td>\n",
       "      <td>0.166667</td>\n",
       "    </tr>\n",
       "  </tbody>\n",
       "</table>\n",
       "</div>"
      ],
      "text/plain": [
       "   x      f(x)      R(x)\n",
       "0  1  0.166667  1.000000\n",
       "1  2  0.166667  0.833333\n",
       "2  3  0.166667  0.666667\n",
       "3  4  0.166667  0.500000\n",
       "4  5  0.166667  0.333333\n",
       "5  6  0.166667  0.166667"
      ]
     },
     "metadata": {},
     "output_type": "display_data"
    },
    {
     "data": {
      "image/png": "[encoded data removed]",
      "text/plain": [
       "<Figure size 300x300 with 1 Axes>"
      ]
     },
     "metadata": {},
     "output_type": "display_data"
    },
    {
     "data": {
      "image/png": "[encoded data removed]",
      "text/plain": [
       "<Figure size 300x300 with 1 Axes>"
      ]
     },
     "metadata": {},
     "output_type": "display_data"
    }
   ],
   "source": [
    "#Uniforme Contínua\n",
    "from scipy.stats import uniform\n",
    "x = list(range(1, 7))#exemplo do dado, Omega_x = (1, 2, ...., 6)\n",
    "# print(x)\n",
    "dist = uniform(1, 6)#Omega_X = {x\\in R| x \\in [1, 1+5]}\n",
    "Px = dist.pdf(x)#probability density function: f(X=x) = (d/dx)P(X<=x)\n",
    "Rx = dist.sf(x)#Reliability/Survival function: P(X>x) = 1 - P(X<=x)\n",
    "\n",
    "def printContinuousDistributions(x, Px, Rx, distName):\n",
    "    dic = {'x':x, 'f(x)':Px, 'R(x)': Rx}\n",
    "    # print(dic)\n",
    "    df = pd.DataFrame(data=dic)\n",
    "    print(\"************* \" + distName + \" PROBABILITY DISTRIBUTIONS *************\")\n",
    "    display(df)\n",
    "    df.plot.area(x = 'x', y = 'f(x)', figsize = (3,3))\n",
    "    df.plot.area(x = 'x', y = 'R(x)', figsize = (3,3))\n",
    "printContinuousDistributions(x, Px, Rx, \"Continuous Uniform\")"
   ]
  },
  {
   "cell_type": "code",
   "execution_count": 6,
   "metadata": {},
   "outputs": [
    {
     "name": "stdout",
     "output_type": "stream",
     "text": [
      "************* Exponential PROBABILITY DISTRIBUTIONS *************\n"
     ]
    },
    {
     "data": {
      "text/html": [
       "<div>\n",
       "<style scoped>\n",
       "    .dataframe tbody tr th:only-of-type {\n",
       "        vertical-align: middle;\n",
       "    }\n",
       "\n",
       "    .dataframe tbody tr th {\n",
       "        vertical-align: top;\n",
       "    }\n",
       "\n",
       "    .dataframe thead th {\n",
       "        text-align: right;\n",
       "    }\n",
       "</style>\n",
       "<table border=\"1\" class=\"dataframe\">\n",
       "  <thead>\n",
       "    <tr style=\"text-align: right;\">\n",
       "      <th></th>\n",
       "      <th>x</th>\n",
       "      <th>f(x)</th>\n",
       "      <th>R(x)</th>\n",
       "    </tr>\n",
       "  </thead>\n",
       "  <tbody>\n",
       "    <tr>\n",
       "      <th>0</th>\n",
       "      <td>0</td>\n",
       "      <td>0.005000</td>\n",
       "      <td>1.000000</td>\n",
       "    </tr>\n",
       "    <tr>\n",
       "      <th>1</th>\n",
       "      <td>1</td>\n",
       "      <td>0.004975</td>\n",
       "      <td>0.995012</td>\n",
       "    </tr>\n",
       "    <tr>\n",
       "      <th>2</th>\n",
       "      <td>2</td>\n",
       "      <td>0.004950</td>\n",
       "      <td>0.990050</td>\n",
       "    </tr>\n",
       "    <tr>\n",
       "      <th>3</th>\n",
       "      <td>3</td>\n",
       "      <td>0.004926</td>\n",
       "      <td>0.985112</td>\n",
       "    </tr>\n",
       "    <tr>\n",
       "      <th>4</th>\n",
       "      <td>4</td>\n",
       "      <td>0.004901</td>\n",
       "      <td>0.980199</td>\n",
       "    </tr>\n",
       "    <tr>\n",
       "      <th>...</th>\n",
       "      <td>...</td>\n",
       "      <td>...</td>\n",
       "      <td>...</td>\n",
       "    </tr>\n",
       "    <tr>\n",
       "      <th>995</th>\n",
       "      <td>995</td>\n",
       "      <td>0.000035</td>\n",
       "      <td>0.006909</td>\n",
       "    </tr>\n",
       "    <tr>\n",
       "      <th>996</th>\n",
       "      <td>996</td>\n",
       "      <td>0.000034</td>\n",
       "      <td>0.006874</td>\n",
       "    </tr>\n",
       "    <tr>\n",
       "      <th>997</th>\n",
       "      <td>997</td>\n",
       "      <td>0.000034</td>\n",
       "      <td>0.006840</td>\n",
       "    </tr>\n",
       "    <tr>\n",
       "      <th>998</th>\n",
       "      <td>998</td>\n",
       "      <td>0.000034</td>\n",
       "      <td>0.006806</td>\n",
       "    </tr>\n",
       "    <tr>\n",
       "      <th>999</th>\n",
       "      <td>999</td>\n",
       "      <td>0.000034</td>\n",
       "      <td>0.006772</td>\n",
       "    </tr>\n",
       "  </tbody>\n",
       "</table>\n",
       "<p>1000 rows × 3 columns</p>\n",
       "</div>"
      ],
      "text/plain": [
       "       x      f(x)      R(x)\n",
       "0      0  0.005000  1.000000\n",
       "1      1  0.004975  0.995012\n",
       "2      2  0.004950  0.990050\n",
       "3      3  0.004926  0.985112\n",
       "4      4  0.004901  0.980199\n",
       "..   ...       ...       ...\n",
       "995  995  0.000035  0.006909\n",
       "996  996  0.000034  0.006874\n",
       "997  997  0.000034  0.006840\n",
       "998  998  0.000034  0.006806\n",
       "999  999  0.000034  0.006772\n",
       "\n",
       "[1000 rows x 3 columns]"
      ]
     },
     "metadata": {},
     "output_type": "display_data"
    },
    {
     "name": "stdout",
     "output_type": "stream",
     "text": [
      "Fx_3s_direita - Fx_3s_esquerda = 1.0\n"
     ]
    },
    {
     "data": {
      "image/png": "[encoded data removed]",
      "text/plain": [
       "<Figure size 300x300 with 1 Axes>"
      ]
     },
     "metadata": {},
     "output_type": "display_data"
    },
    {
     "data": {
      "image/png": "[encoded data removed]",
      "text/plain": [
       "<Figure size 300x300 with 1 Axes>"
      ]
     },
     "metadata": {},
     "output_type": "display_data"
    }
   ],
   "source": [
    "#Exponencial\n",
    "from scipy.stats import expon\n",
    "#X: Tempo até a falha de um avião (em anos)\n",
    "myLambda = .005#taxa de ocorrências de falhas por ano (i.e. por unidade de medida)\n",
    "myMean = 1/myLambda\n",
    "mySd = myMean**2\n",
    "\n",
    "x = list(range(0,1000))\n",
    "dist = expon(scale = myMean, loc = 0)#Omega_X = {x\\in R| x > 0}\n",
    "Px = dist.pdf(x)#probability density function: f(X=x) = (d/dx)P(X<=x)\n",
    "Rx = dist.sf(x)#Reliability/Survival function: P(X>x) = 1 - P(X<=x)\n",
    "printContinuousDistributions(x, Px, Rx, \"Exponential\")\n",
    "\n",
    "Fx_3s_esquerda = dist.cdf(x = myMean - 3*mySd)#P(X<= m - 3*s)\n",
    "Fx_3s_direita = dist.cdf(x = myMean + 3*mySd)#P(X<= m + 3*s)\n",
    "print('Fx_3s_direita - Fx_3s_esquerda = ' + str(Fx_3s_direita - Fx_3s_esquerda))"
   ]
  },
  {
   "cell_type": "code",
   "execution_count": 5,
   "metadata": {},
   "outputs": [
    {
     "name": "stdout",
     "output_type": "stream",
     "text": [
      "************* Normal PROBABILITY DISTRIBUTIONS *************\n"
     ]
    },
    {
     "data": {
      "text/html": [
       "<div>\n",
       "<style scoped>\n",
       "    .dataframe tbody tr th:only-of-type {\n",
       "        vertical-align: middle;\n",
       "    }\n",
       "\n",
       "    .dataframe tbody tr th {\n",
       "        vertical-align: top;\n",
       "    }\n",
       "\n",
       "    .dataframe thead th {\n",
       "        text-align: right;\n",
       "    }\n",
       "</style>\n",
       "<table border=\"1\" class=\"dataframe\">\n",
       "  <thead>\n",
       "    <tr style=\"text-align: right;\">\n",
       "      <th></th>\n",
       "      <th>x</th>\n",
       "      <th>f(x)</th>\n",
       "      <th>R(x)</th>\n",
       "    </tr>\n",
       "  </thead>\n",
       "  <tbody>\n",
       "    <tr>\n",
       "      <th>0</th>\n",
       "      <td>0.780000</td>\n",
       "      <td>0.014773</td>\n",
       "      <td>0.998650</td>\n",
       "    </tr>\n",
       "    <tr>\n",
       "      <th>1</th>\n",
       "      <td>0.798182</td>\n",
       "      <td>0.017686</td>\n",
       "      <td>0.998356</td>\n",
       "    </tr>\n",
       "    <tr>\n",
       "      <th>2</th>\n",
       "      <td>0.816364</td>\n",
       "      <td>0.021096</td>\n",
       "      <td>0.998004</td>\n",
       "    </tr>\n",
       "    <tr>\n",
       "      <th>3</th>\n",
       "      <td>0.834545</td>\n",
       "      <td>0.025071</td>\n",
       "      <td>0.997585</td>\n",
       "    </tr>\n",
       "    <tr>\n",
       "      <th>4</th>\n",
       "      <td>0.852727</td>\n",
       "      <td>0.029686</td>\n",
       "      <td>0.997088</td>\n",
       "    </tr>\n",
       "    <tr>\n",
       "      <th>...</th>\n",
       "      <td>...</td>\n",
       "      <td>...</td>\n",
       "      <td>...</td>\n",
       "    </tr>\n",
       "    <tr>\n",
       "      <th>95</th>\n",
       "      <td>2.507273</td>\n",
       "      <td>0.029686</td>\n",
       "      <td>0.002912</td>\n",
       "    </tr>\n",
       "    <tr>\n",
       "      <th>96</th>\n",
       "      <td>2.525455</td>\n",
       "      <td>0.025071</td>\n",
       "      <td>0.002415</td>\n",
       "    </tr>\n",
       "    <tr>\n",
       "      <th>97</th>\n",
       "      <td>2.543636</td>\n",
       "      <td>0.021096</td>\n",
       "      <td>0.001996</td>\n",
       "    </tr>\n",
       "    <tr>\n",
       "      <th>98</th>\n",
       "      <td>2.561818</td>\n",
       "      <td>0.017686</td>\n",
       "      <td>0.001644</td>\n",
       "    </tr>\n",
       "    <tr>\n",
       "      <th>99</th>\n",
       "      <td>2.580000</td>\n",
       "      <td>0.014773</td>\n",
       "      <td>0.001350</td>\n",
       "    </tr>\n",
       "  </tbody>\n",
       "</table>\n",
       "<p>100 rows × 3 columns</p>\n",
       "</div>"
      ],
      "text/plain": [
       "           x      f(x)      R(x)\n",
       "0   0.780000  0.014773  0.998650\n",
       "1   0.798182  0.017686  0.998356\n",
       "2   0.816364  0.021096  0.998004\n",
       "3   0.834545  0.025071  0.997585\n",
       "4   0.852727  0.029686  0.997088\n",
       "..       ...       ...       ...\n",
       "95  2.507273  0.029686  0.002912\n",
       "96  2.525455  0.025071  0.002415\n",
       "97  2.543636  0.021096  0.001996\n",
       "98  2.561818  0.017686  0.001644\n",
       "99  2.580000  0.014773  0.001350\n",
       "\n",
       "[100 rows x 3 columns]"
      ]
     },
     "metadata": {},
     "output_type": "display_data"
    },
    {
     "name": "stdout",
     "output_type": "stream",
     "text": [
      "Fx_3s_direita - Fx_3s_esquerda = 0.9973002039367398\n"
     ]
    },
    {
     "data": {
      "image/png": "[encoded data removed]",
      "text/plain": [
       "<Figure size 300x300 with 1 Axes>"
      ]
     },
     "metadata": {},
     "output_type": "display_data"
    },
    {
     "data": {
      "image/png": "[encoded data removed]",
      "text/plain": [
       "<Figure size 300x300 with 1 Axes>"
      ]
     },
     "metadata": {},
     "output_type": "display_data"
    }
   ],
   "source": [
    "#Normal\n",
    "from scipy.stats import norm\n",
    "import numpy as np\n",
    "#X: estatura de uma pessoa qualquer, do grupo de interesse (em metros)\n",
    "m = 1.68 #(estatura média em metros)\n",
    "s = 0.3 #desvio-padrão da estatura (em metros)\n",
    "x = np.linspace(m - 3*s, m + 3*s, 100)#take 100 evenly spaced points between (m - 3*s) and (m + 3*s)\n",
    "dist = norm(loc = m, scale = s)#Omega_X = {x\\in R}\n",
    "Px = dist.pdf(x)#probability density function: f(X=x) = (d/dx)P(X<=x)\n",
    "Rx = dist.sf(x)#Reliability/Survival function: P(X>x) = 1 - P(X<=x)\n",
    "printContinuousDistributions(x, Px, Rx, \"Normal\")\n",
    "\n",
    "Fx_3s_esquerda = dist.cdf(x = m - 3*s)#P(X<= m - 3*s)\n",
    "Fx_3s_direita = dist.cdf(x = m + 3*s)#P(X<= m + 3*s)\n",
    "print('Fx_3s_direita - Fx_3s_esquerda = ' + str(Fx_3s_direita - Fx_3s_esquerda))"
   ]
  },
  {
   "cell_type": "code",
   "execution_count": 9,
   "metadata": {},
   "outputs": [
    {
     "name": "stdout",
     "output_type": "stream",
     "text": [
      "P(X>1.90m) = 0.013903447513498616\n",
      "P(Y>5 pessoas) = 0.062104432430228104\n"
     ]
    }
   ],
   "source": [
    "#Misturando distribuições normal e binomial\n",
    "from scipy.stats import binom\n",
    "#X: estatura de uma pessoa qualquer, do grupo de interesse (em metros)\n",
    "# X ~Normal (mu = m=1.68, sd = s = 0.3)\n",
    "distX = norm(loc = 1.68, scale = .1)\n",
    "P_x_maiorque1_9 = distX.sf(x = 1.9)#P(X>1.9)\n",
    "print(\"P(X>1.90m) = \" + str(P_x_maiorque1_9))\n",
    "#Y: nº de pessoas do grupo com estatura superior a 1.9m\n",
    "#O grupo envolve 200 pessoas\n",
    "#Y~binomial (n=200, p=P_x_maiorque1_9)\n",
    "distY = binom(n = 200, p = P_x_maiorque1_9)\n",
    "pYmaiorQue5 = distY.sf(5)#P(Y>5)\n",
    "print(f\"P(Y>5 pessoas) = {pYmaiorQue5}\")"
   ]
  }
 ],
 "metadata": {
  "kernelspec": {
   "display_name": "Python 3.10.6 64-bit",
   "language": "python",
   "name": "python3"
  },
  "language_info": {
   "codemirror_mode": {
    "name": "ipython",
    "version": 3
   },
   "file_extension": ".py",
   "mimetype": "text/x-python",
   "name": "python",
   "nbconvert_exporter": "python",
   "pygments_lexer": "ipython3",
   "version": "3.11.3"
  },
  "orig_nbformat": 4,
  "vscode": {
   "interpreter": {
    "hash": "26de051ba29f2982a8de78e945f0abaf191376122a1563185a90213a26c5da77"
   }
  }
 },
 "nbformat": 4,
 "nbformat_minor": 2
}
