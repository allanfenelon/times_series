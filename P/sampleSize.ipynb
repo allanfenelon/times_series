{
 "cells": [
  {
   "cell_type": "code",
   "execution_count": 1,
   "metadata": {},
   "outputs": [],
   "source": [
    "#link for probability distribution functions https://docs.scipy.org/doc/scipy-0.16.1/reference/stats.html\n",
    "import numpy as np\n",
    "from scipy.stats import norm\n",
    "from scipy.stats import t\n",
    "'''\n",
    "a: alpha (nível de confiança equivale a 1-a)\n",
    "e: epsilon (margem de erro, da mesma unbidade de medida do parâmetro)\n",
    "N: Tamanho da população\n",
    "sd: desvio-padrão envolvido no cálculo\n",
    "sdSampleSize: tamanho da amostra da qual obteve-se sd\n",
    "isToProportion: se True, estuda-se o tamanho amostral para proporção. \n",
    "Se False, esrtuda a média em geral. \n",
    "'''\n",
    "def getSampleSize(a = .05, e = -1, N=-1, sd = -1, sdSampleSize = -1, isToProportion=False):\n",
    "    m=sdSampleSize#TAMANHO DA AMOSTRA DA QUAL PROVEIO sd\n",
    "    quant_m = -1; text = ''\n",
    "    normalCondition = True\n",
    "    if sdSampleSize>0 or (N>0 and sdSampleSize==N): \n",
    "        normalCondition = False\n",
    "    if normalCondition or isToProportion:#sd is the parameter value\n",
    "        # quant_m = round(norm.ppf(1-a/2), 2)\n",
    "        quant_m = norm.ppf(1-a/2)\n",
    "    else:#sd is an  estimate of the sd parameter\n",
    "        # quant_m = round(t.ppf((1-a/2), df=(m-1)), 3)#QUANTIL DA T-STUDENT\n",
    "        quant_m = t.ppf((1-a/2), df=(m-1))#QUANTIL DA T-STUDENT\n",
    "        text = \", df=\" + str(m-1)\n",
    "    \n",
    "    n0 = (quant_m*sd/e)**2\n",
    "    n = n0 if N<0 else (n0*N)/(n0+N-1)  \n",
    "    n=round(n)#TAMANHO DA AMOSTRA\n",
    "    print(\"quant_m=\" + str(quant_m) + \", n=\" + str(n) + text)\n",
    "    return(n)\n"
   ]
  },
  {
   "cell_type": "code",
   "execution_count": 2,
   "metadata": {},
   "outputs": [
    {
     "name": "stdout",
     "output_type": "stream",
     "text": [
      "quant_m=1.959963984540054, n=384\n",
      "quant_m=2.7764451051977987, n=10, df=4\n",
      "quant_m=1.959963984540054, n=1537\n",
      "quant_m=1.959963984540054, n=8\n"
     ]
    },
    {
     "data": {
      "text/plain": [
       "8"
      ]
     },
     "execution_count": 2,
     "metadata": {},
     "output_type": "execute_result"
    }
   ],
   "source": [
    "#População de tamanho infinito (N=-1), desvio padrão popul conhecido (sdSampleSize = -1):\n",
    "getSampleSize(a = .05, e = .1, N=-1, sd = 1, sdSampleSize = -1, isToProportion=False)\n",
    "#População de tamanho finito (N=10), desvio padrão popul desconhecido (sdSampleSize = -1):\n",
    "getSampleSize(a = .05, e = .1, N=10, sd = 1, sdSampleSize = 5, isToProportion=False)\n",
    "#População de tamanho infinito (N=-1), abordagem ousada (p_obs = .8), para proporção:\n",
    "getSampleSize(a = .05, e = .02, N=-1, sd = np.sqrt(.8*.2), sdSampleSize = -1, \n",
    "              isToProportion=True)\n",
    "#População de tamanho finito (N=10), abordagem conservadora (p_obs = .5), para proporção:\n",
    "getSampleSize(a = .05, e = .1, N=10, sd = np.sqrt(.9*.1), sdSampleSize = -1, \n",
    "              isToProportion=True)"
   ]
  },
  {
   "cell_type": "code",
   "execution_count": 3,
   "metadata": {},
   "outputs": [
    {
     "data": {
      "text/html": [
       "<div>\n",
       "<style scoped>\n",
       "    .dataframe tbody tr th:only-of-type {\n",
       "        vertical-align: middle;\n",
       "    }\n",
       "\n",
       "    .dataframe tbody tr th {\n",
       "        vertical-align: top;\n",
       "    }\n",
       "\n",
       "    .dataframe thead th {\n",
       "        text-align: right;\n",
       "    }\n",
       "</style>\n",
       "<table border=\"1\" class=\"dataframe\">\n",
       "  <thead>\n",
       "    <tr style=\"text-align: right;\">\n",
       "      <th></th>\n",
       "      <th>Fornecedor</th>\n",
       "      <th>Degradacao</th>\n",
       "      <th>TempoFalha</th>\n",
       "      <th>nReincidenciaFalhas</th>\n",
       "    </tr>\n",
       "  </thead>\n",
       "  <tbody>\n",
       "    <tr>\n",
       "      <th>0</th>\n",
       "      <td>B</td>\n",
       "      <td>Alto</td>\n",
       "      <td>1.957318</td>\n",
       "      <td>2</td>\n",
       "    </tr>\n",
       "    <tr>\n",
       "      <th>1</th>\n",
       "      <td>B</td>\n",
       "      <td>Alto</td>\n",
       "      <td>0.364677</td>\n",
       "      <td>13</td>\n",
       "    </tr>\n",
       "    <tr>\n",
       "      <th>2</th>\n",
       "      <td>B</td>\n",
       "      <td>Medio</td>\n",
       "      <td>2.640282</td>\n",
       "      <td>1</td>\n",
       "    </tr>\n",
       "    <tr>\n",
       "      <th>3</th>\n",
       "      <td>B</td>\n",
       "      <td>Alto</td>\n",
       "      <td>1.187134</td>\n",
       "      <td>0</td>\n",
       "    </tr>\n",
       "    <tr>\n",
       "      <th>4</th>\n",
       "      <td>A</td>\n",
       "      <td>Baixo</td>\n",
       "      <td>18.337973</td>\n",
       "      <td>4</td>\n",
       "    </tr>\n",
       "    <tr>\n",
       "      <th>5</th>\n",
       "      <td>A</td>\n",
       "      <td>Baixo</td>\n",
       "      <td>12.536926</td>\n",
       "      <td>21</td>\n",
       "    </tr>\n",
       "    <tr>\n",
       "      <th>6</th>\n",
       "      <td>A</td>\n",
       "      <td>Baixo</td>\n",
       "      <td>14.411633</td>\n",
       "      <td>22</td>\n",
       "    </tr>\n",
       "    <tr>\n",
       "      <th>7</th>\n",
       "      <td>A</td>\n",
       "      <td>Baixo</td>\n",
       "      <td>18.107021</td>\n",
       "      <td>60</td>\n",
       "    </tr>\n",
       "    <tr>\n",
       "      <th>8</th>\n",
       "      <td>A</td>\n",
       "      <td>Baixo</td>\n",
       "      <td>14.849921</td>\n",
       "      <td>20</td>\n",
       "    </tr>\n",
       "    <tr>\n",
       "      <th>9</th>\n",
       "      <td>A</td>\n",
       "      <td>Baixo</td>\n",
       "      <td>46.790521</td>\n",
       "      <td>13</td>\n",
       "    </tr>\n",
       "  </tbody>\n",
       "</table>\n",
       "</div>"
      ],
      "text/plain": [
       "  Fornecedor Degradacao  TempoFalha  nReincidenciaFalhas\n",
       "0          B       Alto    1.957318                    2\n",
       "1          B       Alto    0.364677                   13\n",
       "2          B      Medio    2.640282                    1\n",
       "3          B       Alto    1.187134                    0\n",
       "4          A      Baixo   18.337973                    4\n",
       "5          A      Baixo   12.536926                   21\n",
       "6          A      Baixo   14.411633                   22\n",
       "7          A      Baixo   18.107021                   60\n",
       "8          A      Baixo   14.849921                   20\n",
       "9          A      Baixo   46.790521                   13"
      ]
     },
     "metadata": {},
     "output_type": "display_data"
    },
    {
     "name": "stdout",
     "output_type": "stream",
     "text": [
      "BD01.shape: (579, 4)\n"
     ]
    }
   ],
   "source": [
    "#Exemplo: Conjunto de dados de manutenção\n",
    "import pandas as pd\n",
    "#Ler o conjunto\n",
    "BD01 = pd.read_csv(\"../data/BD01.csv\", delimiter=\";\")#, dec = \",\", encoding=\"UTF-8\", sep=\";\", quote=\"\")\n",
    "# BD01 = pd.read_csv(\"../input/bd01-data/BD01.csv\", delimiter=\";\")#, dec = \",\", encoding=\"UTF-8\", sep=\";\", quote=\"\")\n",
    "#visualizar o conjunto\n",
    "display(BD01.head(10))\n",
    "print('BD01.shape:', BD01.shape)"
   ]
  },
  {
   "cell_type": "code",
   "execution_count": 4,
   "metadata": {},
   "outputs": [
    {
     "name": "stdout",
     "output_type": "stream",
     "text": [
      "quant_m=1.959963984540054, n=231\n"
     ]
    }
   ],
   "source": [
    "N = len(BD01)\n",
    "a = .05\n",
    "sd = BD01['TempoFalha'].std(ddof=0)\n",
    "e = .1*sd#hora\n",
    "n = getSampleSize(a = a, e = e, N=N, sd = sd, sdSampleSize = -1, isToProportion=False)"
   ]
  },
  {
   "cell_type": "code",
   "execution_count": 5,
   "metadata": {},
   "outputs": [
    {
     "data": {
      "text/plain": [
       "347.4"
      ]
     },
     "execution_count": 5,
     "metadata": {},
     "output_type": "execute_result"
    }
   ],
   "source": [
    ".6*N"
   ]
  },
  {
   "cell_type": "code",
   "execution_count": 6,
   "metadata": {},
   "outputs": [],
   "source": [
    "# referência: https://pandas.pydata.org/docs/reference/api/pandas.DataFrame.sample.html\n",
    "import pandas as pd\n",
    "# amostragem aleatoria simples - AASimples\n",
    "def getSimpleRandomSample(dataFrame, sampleSize):\n",
    "    # N = len(dataFrame) #tamanho da população\n",
    "    # n = sampleSize # tamanho da amostra\n",
    "    # amostra aleatória de índices\n",
    "    # sampleIndexes = sample(x = 1:N, size = n, replace = FALSE)\n",
    "    # separando a amostra aleatória correspondente aos índices sorteados\n",
    "    #sampleData = dataFrame[sampleIndexes, ]\n",
    "    sampleData = dataFrame.sample(n=sampleSize, replace=False)\n",
    "    return (sampleData)"
   ]
  },
  {
   "cell_type": "code",
   "execution_count": 7,
   "metadata": {},
   "outputs": [],
   "source": [
    "# amostragem aleatoria sistemática - AASistemática\n",
    "# import numpy as np\n",
    "\n",
    "def getSystematicRandomSample(dataFrame, sampleSize):\n",
    "    N = len(dataFrame)  # tamanho da população\n",
    "    n = sampleSize  # tamanho da amostra\n",
    "    ti = 0\n",
    "    tf = (N-1)  # mínimo e máximo do intervalo de chaves\n",
    "    d = round((tf - ti + 1)/n)  # distância entre índices subsequentes\n",
    "    # primeiro índice sorteado aleatoriamente (como na AASimples)\n",
    "    i0 = np.random.default_rng().integers(low=ti, high=ti+d)\n",
    "    # sorteando índices a partir de i0, distanciados por d\n",
    "    sampleIndexes = i0 + list(range(0, N, d))\n",
    "    # contornando o problema de índice maior que o máximo possível\n",
    "    #sampleIndexes[sampleIndexes > tf] = sampleIndexes[sampleIndexes > tf] - tf + ti - 1\n",
    "    # separando a amostra aleatória correspondente aos índices sorteados\n",
    "    sampleData = dataFrame.loc[sampleIndexes, ]\n",
    "    print(\"*********** sampleData ***********\")\n",
    "    display(sampleData)\n",
    "    return (sampleData)\n"
   ]
  },
  {
   "cell_type": "code",
   "execution_count": 8,
   "metadata": {},
   "outputs": [],
   "source": [
    "# amostragem aleatoria estratificada proporcional - AAEstrProp\n",
    "def getProportionalStratifiedRandomSample(dataFrame, sampleSize, stratumVariable, \n",
    "                                          subSampleFunction = getSystematicRandomSample):\n",
    "  # distribuição da variável de estrato na população\n",
    "  n = sampleSize\n",
    "  probDist = dataFrame[stratumVariable].value_counts(normalize=True) # View(probDist)\n",
    "  print('*************** probDist ***************')\n",
    "  display(probDist)\n",
    "  # ns = round(n*probDist.values);  # View(ns)\n",
    "  stratums = probDist.index.to_list()\n",
    "  nStratums = len(stratums)\n",
    "  sampleData = pd.DataFrame()\n",
    "  for i in range(nStratums):\n",
    "    stratum_i = stratums[i]\n",
    "    # View(dataFrame_i, title = stratum_i)\n",
    "    dataFrame_i = dataFrame[dataFrame[stratumVariable] == stratum_i]\n",
    "    N_i = len(dataFrame_i)  # tamanho da iª população\n",
    "    n_i = round(n*probDist.values[i])  # tamanho da iª amostra\n",
    "    # View(sampleData_i, title = paste(\"amostra_\", stratum_i) )\n",
    "    sampleData_i = subSampleFunction(dataFrame= dataFrame_i, sampleSize= n_i)\n",
    "    #sampleData_i = getSystematicRandomSample(dataFrame= dataFrame_i, sampleSize= n_i)\n",
    "    sampleData = pd.concat([sampleData, sampleData_i], axis = 0)\n",
    "  print('********** sample **********')\n",
    "  display(sampleData)\n",
    "  return (sampleData)"
   ]
  },
  {
   "cell_type": "code",
   "execution_count": 10,
   "metadata": {},
   "outputs": [
    {
     "name": "stdout",
     "output_type": "stream",
     "text": [
      "e=2.199295481414015\n",
      "quant_m=1.959963984540054, n=231\n",
      "*************** probDist ***************\n"
     ]
    },
    {
     "data": {
      "text/plain": [
       "Fornecedor\n",
       "A    0.609672\n",
       "B    0.390328\n",
       "Name: proportion, dtype: float64"
      ]
     },
     "metadata": {},
     "output_type": "display_data"
    },
    {
     "name": "stdout",
     "output_type": "stream",
     "text": [
      "********** sample **********\n"
     ]
    },
    {
     "data": {
      "text/html": [
       "<div>\n",
       "<style scoped>\n",
       "    .dataframe tbody tr th:only-of-type {\n",
       "        vertical-align: middle;\n",
       "    }\n",
       "\n",
       "    .dataframe tbody tr th {\n",
       "        vertical-align: top;\n",
       "    }\n",
       "\n",
       "    .dataframe thead th {\n",
       "        text-align: right;\n",
       "    }\n",
       "</style>\n",
       "<table border=\"1\" class=\"dataframe\">\n",
       "  <thead>\n",
       "    <tr style=\"text-align: right;\">\n",
       "      <th></th>\n",
       "      <th>Fornecedor</th>\n",
       "      <th>Degradacao</th>\n",
       "      <th>TempoFalha</th>\n",
       "      <th>nReincidenciaFalhas</th>\n",
       "    </tr>\n",
       "  </thead>\n",
       "  <tbody>\n",
       "    <tr>\n",
       "      <th>507</th>\n",
       "      <td>A</td>\n",
       "      <td>Baixo</td>\n",
       "      <td>11.842930</td>\n",
       "      <td>1</td>\n",
       "    </tr>\n",
       "    <tr>\n",
       "      <th>265</th>\n",
       "      <td>A</td>\n",
       "      <td>Baixo</td>\n",
       "      <td>13.990066</td>\n",
       "      <td>3</td>\n",
       "    </tr>\n",
       "    <tr>\n",
       "      <th>256</th>\n",
       "      <td>A</td>\n",
       "      <td>Baixo</td>\n",
       "      <td>14.891575</td>\n",
       "      <td>4</td>\n",
       "    </tr>\n",
       "    <tr>\n",
       "      <th>42</th>\n",
       "      <td>A</td>\n",
       "      <td>Baixo</td>\n",
       "      <td>20.749899</td>\n",
       "      <td>5</td>\n",
       "    </tr>\n",
       "    <tr>\n",
       "      <th>464</th>\n",
       "      <td>A</td>\n",
       "      <td>Baixo</td>\n",
       "      <td>45.784748</td>\n",
       "      <td>14</td>\n",
       "    </tr>\n",
       "    <tr>\n",
       "      <th>...</th>\n",
       "      <td>...</td>\n",
       "      <td>...</td>\n",
       "      <td>...</td>\n",
       "      <td>...</td>\n",
       "    </tr>\n",
       "    <tr>\n",
       "      <th>135</th>\n",
       "      <td>B</td>\n",
       "      <td>Alto</td>\n",
       "      <td>0.714799</td>\n",
       "      <td>56</td>\n",
       "    </tr>\n",
       "    <tr>\n",
       "      <th>536</th>\n",
       "      <td>B</td>\n",
       "      <td>Medio</td>\n",
       "      <td>4.366681</td>\n",
       "      <td>12</td>\n",
       "    </tr>\n",
       "    <tr>\n",
       "      <th>532</th>\n",
       "      <td>B</td>\n",
       "      <td>Alto</td>\n",
       "      <td>2.038045</td>\n",
       "      <td>18</td>\n",
       "    </tr>\n",
       "    <tr>\n",
       "      <th>557</th>\n",
       "      <td>B</td>\n",
       "      <td>Alto</td>\n",
       "      <td>0.991718</td>\n",
       "      <td>3</td>\n",
       "    </tr>\n",
       "    <tr>\n",
       "      <th>2</th>\n",
       "      <td>B</td>\n",
       "      <td>Medio</td>\n",
       "      <td>2.640282</td>\n",
       "      <td>1</td>\n",
       "    </tr>\n",
       "  </tbody>\n",
       "</table>\n",
       "<p>231 rows × 4 columns</p>\n",
       "</div>"
      ],
      "text/plain": [
       "    Fornecedor Degradacao  TempoFalha  nReincidenciaFalhas\n",
       "507          A      Baixo   11.842930                    1\n",
       "265          A      Baixo   13.990066                    3\n",
       "256          A      Baixo   14.891575                    4\n",
       "42           A      Baixo   20.749899                    5\n",
       "464          A      Baixo   45.784748                   14\n",
       "..         ...        ...         ...                  ...\n",
       "135          B       Alto    0.714799                   56\n",
       "536          B      Medio    4.366681                   12\n",
       "532          B       Alto    2.038045                   18\n",
       "557          B       Alto    0.991718                    3\n",
       "2            B      Medio    2.640282                    1\n",
       "\n",
       "[231 rows x 4 columns]"
      ]
     },
     "metadata": {},
     "output_type": "display_data"
    },
    {
     "name": "stdout",
     "output_type": "stream",
     "text": [
      "************** BD01.describe() **************\n"
     ]
    },
    {
     "data": {
      "text/html": [
       "<div>\n",
       "<style scoped>\n",
       "    .dataframe tbody tr th:only-of-type {\n",
       "        vertical-align: middle;\n",
       "    }\n",
       "\n",
       "    .dataframe tbody tr th {\n",
       "        vertical-align: top;\n",
       "    }\n",
       "\n",
       "    .dataframe thead th {\n",
       "        text-align: right;\n",
       "    }\n",
       "</style>\n",
       "<table border=\"1\" class=\"dataframe\">\n",
       "  <thead>\n",
       "    <tr style=\"text-align: right;\">\n",
       "      <th></th>\n",
       "      <th>TempoFalha</th>\n",
       "      <th>nReincidenciaFalhas</th>\n",
       "    </tr>\n",
       "  </thead>\n",
       "  <tbody>\n",
       "    <tr>\n",
       "      <th>count</th>\n",
       "      <td>579.000000</td>\n",
       "      <td>579.000000</td>\n",
       "    </tr>\n",
       "    <tr>\n",
       "      <th>mean</th>\n",
       "      <td>20.250725</td>\n",
       "      <td>18.792746</td>\n",
       "    </tr>\n",
       "    <tr>\n",
       "      <th>std</th>\n",
       "      <td>22.011972</td>\n",
       "      <td>19.226708</td>\n",
       "    </tr>\n",
       "    <tr>\n",
       "      <th>min</th>\n",
       "      <td>0.036110</td>\n",
       "      <td>0.000000</td>\n",
       "    </tr>\n",
       "    <tr>\n",
       "      <th>25%</th>\n",
       "      <td>2.825574</td>\n",
       "      <td>3.000000</td>\n",
       "    </tr>\n",
       "    <tr>\n",
       "      <th>50%</th>\n",
       "      <td>14.318828</td>\n",
       "      <td>14.000000</td>\n",
       "    </tr>\n",
       "    <tr>\n",
       "      <th>75%</th>\n",
       "      <td>30.370120</td>\n",
       "      <td>28.000000</td>\n",
       "    </tr>\n",
       "    <tr>\n",
       "      <th>max</th>\n",
       "      <td>121.861409</td>\n",
       "      <td>125.000000</td>\n",
       "    </tr>\n",
       "  </tbody>\n",
       "</table>\n",
       "</div>"
      ],
      "text/plain": [
       "       TempoFalha  nReincidenciaFalhas\n",
       "count  579.000000           579.000000\n",
       "mean    20.250725            18.792746\n",
       "std     22.011972            19.226708\n",
       "min      0.036110             0.000000\n",
       "25%      2.825574             3.000000\n",
       "50%     14.318828            14.000000\n",
       "75%     30.370120            28.000000\n",
       "max    121.861409           125.000000"
      ]
     },
     "metadata": {},
     "output_type": "display_data"
    },
    {
     "name": "stdout",
     "output_type": "stream",
     "text": [
      "************** aaSimples_data.describe() **************\n"
     ]
    },
    {
     "data": {
      "text/html": [
       "<div>\n",
       "<style scoped>\n",
       "    .dataframe tbody tr th:only-of-type {\n",
       "        vertical-align: middle;\n",
       "    }\n",
       "\n",
       "    .dataframe tbody tr th {\n",
       "        vertical-align: top;\n",
       "    }\n",
       "\n",
       "    .dataframe thead th {\n",
       "        text-align: right;\n",
       "    }\n",
       "</style>\n",
       "<table border=\"1\" class=\"dataframe\">\n",
       "  <thead>\n",
       "    <tr style=\"text-align: right;\">\n",
       "      <th></th>\n",
       "      <th>TempoFalha</th>\n",
       "      <th>nReincidenciaFalhas</th>\n",
       "    </tr>\n",
       "  </thead>\n",
       "  <tbody>\n",
       "    <tr>\n",
       "      <th>count</th>\n",
       "      <td>231.000000</td>\n",
       "      <td>231.000000</td>\n",
       "    </tr>\n",
       "    <tr>\n",
       "      <th>mean</th>\n",
       "      <td>20.373447</td>\n",
       "      <td>18.212121</td>\n",
       "    </tr>\n",
       "    <tr>\n",
       "      <th>std</th>\n",
       "      <td>21.944410</td>\n",
       "      <td>18.549652</td>\n",
       "    </tr>\n",
       "    <tr>\n",
       "      <th>min</th>\n",
       "      <td>0.091826</td>\n",
       "      <td>0.000000</td>\n",
       "    </tr>\n",
       "    <tr>\n",
       "      <th>25%</th>\n",
       "      <td>2.495486</td>\n",
       "      <td>3.000000</td>\n",
       "    </tr>\n",
       "    <tr>\n",
       "      <th>50%</th>\n",
       "      <td>13.646376</td>\n",
       "      <td>14.000000</td>\n",
       "    </tr>\n",
       "    <tr>\n",
       "      <th>75%</th>\n",
       "      <td>32.253459</td>\n",
       "      <td>26.000000</td>\n",
       "    </tr>\n",
       "    <tr>\n",
       "      <th>max</th>\n",
       "      <td>111.997702</td>\n",
       "      <td>101.000000</td>\n",
       "    </tr>\n",
       "  </tbody>\n",
       "</table>\n",
       "</div>"
      ],
      "text/plain": [
       "       TempoFalha  nReincidenciaFalhas\n",
       "count  231.000000           231.000000\n",
       "mean    20.373447            18.212121\n",
       "std     21.944410            18.549652\n",
       "min      0.091826             0.000000\n",
       "25%      2.495486             3.000000\n",
       "50%     13.646376            14.000000\n",
       "75%     32.253459            26.000000\n",
       "max    111.997702           101.000000"
      ]
     },
     "metadata": {},
     "output_type": "display_data"
    }
   ],
   "source": [
    "N = len(BD01)\n",
    "a = .05\n",
    "sd = BD01['TempoFalha'].std(ddof=0)\n",
    "e = .1*sd#hora\n",
    "print('e='+str(e))\n",
    "n = getSampleSize(a = a, e = e, N=N, sd = sd, sdSampleSize = -1, isToProportion=False)\n",
    "\n",
    "aaProp_data = getProportionalStratifiedRandomSample(dataFrame=BD01, sampleSize=n, \n",
    "                                                    stratumVariable='Fornecedor', #\"Degradacao\",\n",
    "                                                    subSampleFunction = getSimpleRandomSample)\n",
    "#print(aaProp_data.head(n))\n",
    "print(\"************** BD01.describe() **************\")\n",
    "display(BD01.describe())\n",
    "print(\"************** aaSimples_data.describe() **************\")\n",
    "display(aaProp_data.describe())"
   ]
  },
  {
   "cell_type": "code",
   "execution_count": 16,
   "metadata": {},
   "outputs": [
    {
     "name": "stdout",
     "output_type": "stream",
     "text": [
      "O tempo médio até a falha é de 20.37 horas, com margem de erro de 2.2 horas \n",
      " para mais ou para menos\n"
     ]
    }
   ],
   "source": [
    "print('O tempo médio até a falha é de '+\\\n",
    "    str(round(aaProp_data.describe().loc['mean','TempoFalha'], 2))+\\\n",
    "    ' horas, com margem de erro de '+\\\n",
    "    str(round(e, 2)) + \" horas \\n para mais ou para menos.\")"
   ]
  },
  {
   "cell_type": "code",
   "execution_count": 26,
   "metadata": {},
   "outputs": [
    {
     "name": "stdout",
     "output_type": "stream",
     "text": [
      "diferencaRelativaTime = 0.05598667935111227\n"
     ]
    }
   ],
   "source": [
    "# import numpy as np\n",
    "pTime = BD01.describe().loc['mean', 'TempoFalha']\n",
    "eTime = aaProp_data.describe().loc['mean', 'TempoFalha']\n",
    "diferencaRelativaTime = np.abs(pTime - eTime)/pTime\n",
    "print('diferencaRelativaTime = ' + str(diferencaRelativaTime))"
   ]
  },
  {
   "cell_type": "code",
   "execution_count": 28,
   "metadata": {},
   "outputs": [
    {
     "name": "stdout",
     "output_type": "stream",
     "text": [
      "[19.061780153932304, 23.460371116760335]\n"
     ]
    },
    {
     "ename": "",
     "evalue": "",
     "output_type": "error",
     "traceback": [
      "\u001b[1;31mThe Kernel crashed while executing code in the the current cell or a previous cell. Please review the code in the cell(s) to identify a possible cause of the failure. Click <a href='https://aka.ms/vscodeJupyterKernelCrash'>here</a> for more info. View Jupyter <a href='command:jupyter.viewOutput'>log</a> for further details."
     ]
    }
   ],
   "source": [
    "#intervalo de confiança\n",
    "xBarra = aaProp_data.describe().loc['mean', 'TempoFalha']\n",
    "print('['+str(xBarra - e)+ ', '+str(xBarra + e)+']')"
   ]
  }
 ],
 "metadata": {
  "kernelspec": {
   "display_name": "tf",
   "language": "python",
   "name": "python3"
  },
  "language_info": {
   "codemirror_mode": {
    "name": "ipython",
    "version": 3
   },
   "file_extension": ".py",
   "mimetype": "text/x-python",
   "name": "python",
   "nbconvert_exporter": "python",
   "pygments_lexer": "ipython3",
   "version": "3.9.16"
  }
 },
 "nbformat": 4,
 "nbformat_minor": 2
}
