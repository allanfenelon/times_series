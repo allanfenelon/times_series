{
 "cells": [
  {
   "cell_type": "code",
   "execution_count": 3,
   "metadata": {},
   "outputs": [],
   "source": [
    "#%pip install matplotlib"
   ]
  },
  {
   "cell_type": "code",
   "execution_count": 1,
   "metadata": {},
   "outputs": [
    {
     "data": {
      "text/html": [
       "<div>\n",
       "<style scoped>\n",
       "    .dataframe tbody tr th:only-of-type {\n",
       "        vertical-align: middle;\n",
       "    }\n",
       "\n",
       "    .dataframe tbody tr th {\n",
       "        vertical-align: top;\n",
       "    }\n",
       "\n",
       "    .dataframe thead th {\n",
       "        text-align: right;\n",
       "    }\n",
       "</style>\n",
       "<table border=\"1\" class=\"dataframe\">\n",
       "  <thead>\n",
       "    <tr style=\"text-align: right;\">\n",
       "      <th></th>\n",
       "      <th>PassengerId</th>\n",
       "      <th>Survived</th>\n",
       "      <th>Pclass</th>\n",
       "      <th>Name</th>\n",
       "      <th>Sex</th>\n",
       "      <th>Age</th>\n",
       "      <th>SibSp</th>\n",
       "      <th>Parch</th>\n",
       "      <th>Ticket</th>\n",
       "      <th>Fare</th>\n",
       "      <th>Cabin</th>\n",
       "      <th>Embarked</th>\n",
       "    </tr>\n",
       "  </thead>\n",
       "  <tbody>\n",
       "    <tr>\n",
       "      <th>0</th>\n",
       "      <td>1</td>\n",
       "      <td>0</td>\n",
       "      <td>3</td>\n",
       "      <td>Braund, Mr. Owen Harris</td>\n",
       "      <td>male</td>\n",
       "      <td>22.0</td>\n",
       "      <td>1</td>\n",
       "      <td>0</td>\n",
       "      <td>A/5 21171</td>\n",
       "      <td>7.2500</td>\n",
       "      <td>NaN</td>\n",
       "      <td>S</td>\n",
       "    </tr>\n",
       "    <tr>\n",
       "      <th>1</th>\n",
       "      <td>2</td>\n",
       "      <td>1</td>\n",
       "      <td>1</td>\n",
       "      <td>Cumings, Mrs. John Bradley (Florence Briggs Th...</td>\n",
       "      <td>female</td>\n",
       "      <td>38.0</td>\n",
       "      <td>1</td>\n",
       "      <td>0</td>\n",
       "      <td>PC 17599</td>\n",
       "      <td>71.2833</td>\n",
       "      <td>C85</td>\n",
       "      <td>C</td>\n",
       "    </tr>\n",
       "    <tr>\n",
       "      <th>2</th>\n",
       "      <td>3</td>\n",
       "      <td>1</td>\n",
       "      <td>3</td>\n",
       "      <td>Heikkinen, Miss. Laina</td>\n",
       "      <td>female</td>\n",
       "      <td>26.0</td>\n",
       "      <td>0</td>\n",
       "      <td>0</td>\n",
       "      <td>STON/O2. 3101282</td>\n",
       "      <td>7.9250</td>\n",
       "      <td>NaN</td>\n",
       "      <td>S</td>\n",
       "    </tr>\n",
       "    <tr>\n",
       "      <th>3</th>\n",
       "      <td>4</td>\n",
       "      <td>1</td>\n",
       "      <td>1</td>\n",
       "      <td>Futrelle, Mrs. Jacques Heath (Lily May Peel)</td>\n",
       "      <td>female</td>\n",
       "      <td>35.0</td>\n",
       "      <td>1</td>\n",
       "      <td>0</td>\n",
       "      <td>113803</td>\n",
       "      <td>53.1000</td>\n",
       "      <td>C123</td>\n",
       "      <td>S</td>\n",
       "    </tr>\n",
       "    <tr>\n",
       "      <th>4</th>\n",
       "      <td>5</td>\n",
       "      <td>0</td>\n",
       "      <td>3</td>\n",
       "      <td>Allen, Mr. William Henry</td>\n",
       "      <td>male</td>\n",
       "      <td>35.0</td>\n",
       "      <td>0</td>\n",
       "      <td>0</td>\n",
       "      <td>373450</td>\n",
       "      <td>8.0500</td>\n",
       "      <td>NaN</td>\n",
       "      <td>S</td>\n",
       "    </tr>\n",
       "  </tbody>\n",
       "</table>\n",
       "</div>"
      ],
      "text/plain": [
       "   PassengerId  Survived  Pclass   \n",
       "0            1         0       3  \\\n",
       "1            2         1       1   \n",
       "2            3         1       3   \n",
       "3            4         1       1   \n",
       "4            5         0       3   \n",
       "\n",
       "                                                Name     Sex   Age  SibSp   \n",
       "0                            Braund, Mr. Owen Harris    male  22.0      1  \\\n",
       "1  Cumings, Mrs. John Bradley (Florence Briggs Th...  female  38.0      1   \n",
       "2                             Heikkinen, Miss. Laina  female  26.0      0   \n",
       "3       Futrelle, Mrs. Jacques Heath (Lily May Peel)  female  35.0      1   \n",
       "4                           Allen, Mr. William Henry    male  35.0      0   \n",
       "\n",
       "   Parch            Ticket     Fare Cabin Embarked  \n",
       "0      0         A/5 21171   7.2500   NaN        S  \n",
       "1      0          PC 17599  71.2833   C85        C  \n",
       "2      0  STON/O2. 3101282   7.9250   NaN        S  \n",
       "3      0            113803  53.1000  C123        S  \n",
       "4      0            373450   8.0500   NaN        S  "
      ]
     },
     "execution_count": 1,
     "metadata": {},
     "output_type": "execute_result"
    }
   ],
   "source": [
    "#https://docs.scipy.org/doc/scipy-0.16.1/reference/stats.html\n",
    "import numpy as np\n",
    "import pandas as pd\n",
    "import matplotlib.pyplot as plt\n",
    "from scipy import stats\n",
    "\n",
    "data = pd.read_csv('C:/Users/praf6/OneDrive - Universidade Federal do Cariri - UFCA/Drive/UFCA/Ensino/CRAN R_aulas/kaggleFiles/data/titanic/train.csv')\n",
    "data.head(5)"
   ]
  },
  {
   "cell_type": "code",
   "execution_count": 2,
   "metadata": {},
   "outputs": [
    {
     "name": "stdout",
     "output_type": "stream",
     "text": [
      "******** Frequency: Survived versus Pclass ********\n"
     ]
    },
    {
     "data": {
      "text/html": [
       "<div>\n",
       "<style scoped>\n",
       "    .dataframe tbody tr th:only-of-type {\n",
       "        vertical-align: middle;\n",
       "    }\n",
       "\n",
       "    .dataframe tbody tr th {\n",
       "        vertical-align: top;\n",
       "    }\n",
       "\n",
       "    .dataframe thead th {\n",
       "        text-align: right;\n",
       "    }\n",
       "</style>\n",
       "<table border=\"1\" class=\"dataframe\">\n",
       "  <thead>\n",
       "    <tr style=\"text-align: right;\">\n",
       "      <th>Survived</th>\n",
       "      <th>0</th>\n",
       "      <th>1</th>\n",
       "    </tr>\n",
       "    <tr>\n",
       "      <th>Pclass</th>\n",
       "      <th></th>\n",
       "      <th></th>\n",
       "    </tr>\n",
       "  </thead>\n",
       "  <tbody>\n",
       "    <tr>\n",
       "      <th>1</th>\n",
       "      <td>80</td>\n",
       "      <td>136</td>\n",
       "    </tr>\n",
       "    <tr>\n",
       "      <th>2</th>\n",
       "      <td>97</td>\n",
       "      <td>87</td>\n",
       "    </tr>\n",
       "    <tr>\n",
       "      <th>3</th>\n",
       "      <td>372</td>\n",
       "      <td>119</td>\n",
       "    </tr>\n",
       "  </tbody>\n",
       "</table>\n",
       "</div>"
      ],
      "text/plain": [
       "Survived    0    1\n",
       "Pclass            \n",
       "1          80  136\n",
       "2          97   87\n",
       "3         372  119"
      ]
     },
     "metadata": {},
     "output_type": "display_data"
    },
    {
     "data": {
      "image/png": "[encoded data removed]",
      "text/plain": [
       "<Figure size 800x200 with 1 Axes>"
      ]
     },
     "metadata": {},
     "output_type": "display_data"
    }
   ],
   "source": [
    "def qualiQualiVariablesAnalysis (varName1, varName2):\n",
    "    SQ_tb = pd.crosstab(index=data[varName1], columns=data[varName2])#, normalize = \"index\")#, margins = True\n",
    "    title = \"Frequency: \" + varName2  + \" versus \" + varName1 \n",
    "    print(\"******** \" + title + \" ********\")\n",
    "    display(SQ_tb)\n",
    "    Stacked = SQ_tb.plot(kind=\"bar\",figsize=(8,2),stacked=False,title=title,fontsize=12)\n",
    "    Stacked.set_ylabel(\"frequency\",fontsize=12)\n",
    "    Stacked.set_xlabel(varName1,fontsize=12)\n",
    "    return (SQ_tb)\n",
    "\n",
    "contingency = qualiQualiVariablesAnalysis('Pclass', 'Survived')"
   ]
  },
  {
   "cell_type": "code",
   "execution_count": 4,
   "metadata": {},
   "outputs": [
    {
     "name": "stdout",
     "output_type": "stream",
     "text": [
      "Pearson Chi-squared statistic = 102.88898875696056\n",
      "Pearson Chi-squared pValue = 4.549251711298793e-23\n",
      "Pearson Chi-squared degreesOfFreedom = 2\n",
      "Pearson Chi-squared expected = [[133.09090909  82.90909091]\n",
      " [113.37373737  70.62626263]\n",
      " [302.53535354 188.46464646]]\n",
      "[[False False]\n",
      " [False False]\n",
      " [False False]]\n",
      "I do reject H0, i.e. I decide there is association between the variables.\n"
     ]
    }
   ],
   "source": [
    "# Chi-square test of independence. \n",
    "#H0: There is no association (the variables are independent)\n",
    "#H1: There is association (the variables are dependent)\n",
    "statistic, pValue, degreesOfFreedom, expected = stats.chi2_contingency(contingency)\n",
    "print('Pearson Chi-squared statistic =', statistic)#Pearson's Chisquared Statistic\n",
    "print('Pearson Chi-squared pValue =', pValue)\n",
    "print('Pearson Chi-squared degreesOfFreedom =', degreesOfFreedom)\n",
    "print('Pearson Chi-squared expected =', expected)\n",
    "print(expected<=5)#there is no expected value lesser or equal than 5...\n",
    "                  # in these cases, this test is not so reliable...\n",
    "                  #for alpha=5%, as pValue >= alpha, I do not reject H0\n",
    "alpha = .05\n",
    "if(pValue>=alpha):\n",
    "    print('I do not reject H0, i.e. I decide there is no association between the variables.')\n",
    "else:\n",
    "    print('I do reject H0, i.e. I decide there is association between the variables.')"
   ]
  },
  {
   "cell_type": "code",
   "execution_count": 5,
   "metadata": {},
   "outputs": [
    {
     "data": {
      "text/plain": [
       "2.1981637057284395e+22"
      ]
     },
     "execution_count": 5,
     "metadata": {},
     "output_type": "execute_result"
    }
   ],
   "source": [
    "1/4.549251711298793e-23"
   ]
  },
  {
   "cell_type": "code",
   "execution_count": 6,
   "metadata": {},
   "outputs": [
    {
     "name": "stdout",
     "output_type": "stream",
     "text": [
      "******** Frequency: Sex versus Survived ********\n"
     ]
    },
    {
     "data": {
      "text/html": [
       "<div>\n",
       "<style scoped>\n",
       "    .dataframe tbody tr th:only-of-type {\n",
       "        vertical-align: middle;\n",
       "    }\n",
       "\n",
       "    .dataframe tbody tr th {\n",
       "        vertical-align: top;\n",
       "    }\n",
       "\n",
       "    .dataframe thead th {\n",
       "        text-align: right;\n",
       "    }\n",
       "</style>\n",
       "<table border=\"1\" class=\"dataframe\">\n",
       "  <thead>\n",
       "    <tr style=\"text-align: right;\">\n",
       "      <th>Sex</th>\n",
       "      <th>female</th>\n",
       "      <th>male</th>\n",
       "    </tr>\n",
       "    <tr>\n",
       "      <th>Survived</th>\n",
       "      <th></th>\n",
       "      <th></th>\n",
       "    </tr>\n",
       "  </thead>\n",
       "  <tbody>\n",
       "    <tr>\n",
       "      <th>0</th>\n",
       "      <td>81</td>\n",
       "      <td>468</td>\n",
       "    </tr>\n",
       "    <tr>\n",
       "      <th>1</th>\n",
       "      <td>233</td>\n",
       "      <td>109</td>\n",
       "    </tr>\n",
       "  </tbody>\n",
       "</table>\n",
       "</div>"
      ],
      "text/plain": [
       "Sex       female  male\n",
       "Survived              \n",
       "0             81   468\n",
       "1            233   109"
      ]
     },
     "metadata": {},
     "output_type": "display_data"
    },
    {
     "name": "stdout",
     "output_type": "stream",
     "text": [
      "Fisher statistic = 0.08096731594585672\n",
      "Fisher statistic pValue = 6.463921564583144e-60\n",
      "expected number of samples to achieve the actual result:  1.5470484751534723e+59\n"
     ]
    },
    {
     "data": {
      "image/png": "[encoded data removed]",
      "text/plain": [
       "<Figure size 800x200 with 1 Axes>"
      ]
     },
     "metadata": {},
     "output_type": "display_data"
    }
   ],
   "source": [
    "# Nas situações de haver valores esperados menores que 5, é melhor recorrer ao teste exato de Fisher,\n",
    "# ao invés do de Pearson:\n",
    "# Python em si só trablaha com o teste de Fisher para tabelas 2X2:\n",
    "contSS = qualiQualiVariablesAnalysis('Survived', 'Sex')\n",
    "# Fisher test of independence. \n",
    "#H0: There is no association\n",
    "#H1: There is association\n",
    "statistic, pValue = stats.fisher_exact(contSS)\n",
    "print('Fisher statistic =', statistic)#Fisher's Statistic\n",
    "print('Fisher statistic pValue =', pValue)#With alpha = 5%, H0 is rejected\n",
    "print('expected number of samples to achieve the actual result: ', str(1/pValue))"
   ]
  },
  {
   "cell_type": "code",
   "execution_count": 8,
   "metadata": {},
   "outputs": [],
   "source": [
    "#in the case of contingency tables with dimensions bigger than 2X2, \n",
    "#it seems R must be used:\n",
    "#https://stackoverflow.com/questions/25368284/fishers-exact-test-for-bigger-than-2-by-2-contingency-table\n",
    "#%pip install rpy2"
   ]
  },
  {
   "cell_type": "code",
   "execution_count": 9,
   "metadata": {},
   "outputs": [],
   "source": [
    "# import rpy2.robjects.numpy2ri\n",
    "# from rpy2.robjects.packages import importr\n",
    "# rpy2.robjects.numpy2ri.activate()\n",
    "\n",
    "# stats = importr('stats')\n",
    "# # m = np.array([[4,4],[4,5],[10,6]])\n",
    "# res = stats.fisher_test(contSS)\n",
    "# print ('p-value: {}'.format(res[0][0]))"
   ]
  },
  {
   "cell_type": "code",
   "execution_count": 10,
   "metadata": {},
   "outputs": [],
   "source": [
    "#correspondence analysis\n",
    "#https://www.kaggle.com/code/jiagengchang/heart-disease-multiple-correspondence-analysis/notebook\n",
    "# %pip install prince"
   ]
  },
  {
   "cell_type": "code",
   "execution_count": 7,
   "metadata": {},
   "outputs": [
    {
     "name": "stdout",
     "output_type": "stream",
     "text": [
      "******** Frequency: Embarked versus Survived ********\n"
     ]
    },
    {
     "data": {
      "text/html": [
       "<div>\n",
       "<style scoped>\n",
       "    .dataframe tbody tr th:only-of-type {\n",
       "        vertical-align: middle;\n",
       "    }\n",
       "\n",
       "    .dataframe tbody tr th {\n",
       "        vertical-align: top;\n",
       "    }\n",
       "\n",
       "    .dataframe thead th {\n",
       "        text-align: right;\n",
       "    }\n",
       "</style>\n",
       "<table border=\"1\" class=\"dataframe\">\n",
       "  <thead>\n",
       "    <tr style=\"text-align: right;\">\n",
       "      <th>Embarked</th>\n",
       "      <th>C</th>\n",
       "      <th>Q</th>\n",
       "      <th>S</th>\n",
       "    </tr>\n",
       "    <tr>\n",
       "      <th>Survived</th>\n",
       "      <th></th>\n",
       "      <th></th>\n",
       "      <th></th>\n",
       "    </tr>\n",
       "  </thead>\n",
       "  <tbody>\n",
       "    <tr>\n",
       "      <th>0</th>\n",
       "      <td>75</td>\n",
       "      <td>47</td>\n",
       "      <td>427</td>\n",
       "    </tr>\n",
       "    <tr>\n",
       "      <th>1</th>\n",
       "      <td>93</td>\n",
       "      <td>30</td>\n",
       "      <td>217</td>\n",
       "    </tr>\n",
       "  </tbody>\n",
       "</table>\n",
       "</div>"
      ],
      "text/plain": [
       "Embarked   C   Q    S\n",
       "Survived             \n",
       "0         75  47  427\n",
       "1         93  30  217"
      ]
     },
     "metadata": {},
     "output_type": "display_data"
    },
    {
     "ename": "AttributeError",
     "evalue": "'CA' object has no attribute 'plot_coordinates'",
     "output_type": "error",
     "traceback": [
      "\u001b[1;31m---------------------------------------------------------------------------\u001b[0m",
      "\u001b[1;31mAttributeError\u001b[0m                            Traceback (most recent call last)",
      "Cell \u001b[1;32mIn[7], line 10\u001b[0m\n\u001b[0;32m      6\u001b[0m ca\u001b[38;5;241m.\u001b[39mfit(crossTb)\n\u001b[0;32m      7\u001b[0m \u001b[38;5;66;03m# project categories onto mca copmonents\u001b[39;00m\n\u001b[0;32m      8\u001b[0m \u001b[38;5;66;03m# implicitly calls transform(X)\u001b[39;00m\n\u001b[0;32m      9\u001b[0m \u001b[38;5;66;03m# what we want to see is for the points belonging to the same color to be as far apart as possible, for all colors\u001b[39;00m\n\u001b[1;32m---> 10\u001b[0m ax \u001b[38;5;241m=\u001b[39m \u001b[43mca\u001b[49m\u001b[38;5;241;43m.\u001b[39;49m\u001b[43mplot_coordinates\u001b[49m(crossTb, figsize\u001b[38;5;241m=\u001b[39m(\u001b[38;5;241m4\u001b[39m, \u001b[38;5;241m8\u001b[39m))\n\u001b[0;32m     11\u001b[0m \u001b[38;5;66;03m# ax.get_figure().savefig('MCAplot.svg')\u001b[39;00m\n",
      "\u001b[1;31mAttributeError\u001b[0m: 'CA' object has no attribute 'plot_coordinates'"
     ]
    },
    {
     "data": {
      "image/png": "[encoded data removed]",
      "text/plain": [
       "<Figure size 800x200 with 1 Axes>"
      ]
     },
     "metadata": {},
     "output_type": "display_data"
    }
   ],
   "source": [
    "import prince\n",
    "crossTb = qualiQualiVariablesAnalysis('Survived', 'Embarked')\n",
    "# instantiate MCA class\n",
    "ca = prince.CA(n_components = 2)\n",
    "# get principal components\n",
    "ca.fit(crossTb)\n",
    "# project categories onto mca copmonents\n",
    "# implicitly calls transform(X)\n",
    "# what we want to see is for the points belonging to the same color to be as far apart as possible, for all colors\n",
    "ax = ca.plot_coordinates(crossTb, figsize=(4, 8))\n",
    "# ax.get_figure().savefig('MCAplot.svg')"
   ]
  },
  {
   "cell_type": "code",
   "execution_count": null,
   "metadata": {},
   "outputs": [
    {
     "ename": "SyntaxError",
     "evalue": "cannot assign to function call here. Maybe you meant '==' instead of '='? (3952124507.py, line 17)",
     "output_type": "error",
     "traceback": [
      "\u001b[1;36m  Input \u001b[1;32mIn [22]\u001b[1;36m\u001b[0m\n\u001b[1;33m    dimnames(residuals) = dimnames(distFrequencia)\u001b[0m\n\u001b[1;37m    ^\u001b[0m\n\u001b[1;31mSyntaxError\u001b[0m\u001b[1;31m:\u001b[0m cannot assign to function call here. Maybe you meant '==' instead of '='?\n"
     ]
    }
   ],
   "source": [
    "#Correspondence Analysis .. to be continued\n",
    "def associationPlot_qualitativeVariables(distFrequencia):\n",
    "  #CALCULANDO OS RESÍDUOS:\n",
    "  #e_ij = ni. X n.j / n..#valor esperado para a célula da linha i e coluna j (supondo independência - H0)\n",
    "  #PE_ij = e_ij/n..#probabilidade de ocorrer a conjunção da célula ij sob H0 (independência)\n",
    "  #PO_ij = o_ij/n..#frequência relativa de ocorrer a conjunção da célula ij\n",
    "  #residuo_ij = (PO_ij - PE_ij)/sqrt(PE_ij)\n",
    "  n = distFrequencia.sum()#Tamanho amostral\n",
    "  PO = distFrequencia/n#distribuição conjunta relativa observada\n",
    "  pi = PO.sum(axis=0)#frequência relativa total por linha (marginal da variável-linha)\n",
    "  pj = PO.sum(axis=1)#frequência relativa total por coluna (marginal da variável-coluna)\n",
    "  rD = np.diag(1./np.sqrt(pi))#inversa da matriz diagonal da marginal da variável-linha em relação à raiz de pi\n",
    "  cD = np.diag(1./np.sqrt(pj))#matriz diagonal da marginal da variável-coluna em relação à raiz de pj\n",
    "  PE = pi*pj.T#distribuição conjunta esperada (sob H0: independência)\n",
    "  residuals = rD* (PO-PE) *cD#\n",
    "  print(residuals)\n",
    "  dimnames(residuals) = dimnames(distFrequencia)\n",
    "  # View(residuals)\n",
    "\n",
    "  # dec = svd(x = distFrequencia)#singular value decomposition\n",
    "  dec = svd(x = residuals)#singular value decomposition\n",
    "  eigenvalues = dec$d^2\n",
    "  totalSum = sum(eigenvalues)\n",
    "  eigenvalues = eigenvalues / totalSum\n",
    "  PearsonChisquaredStatistic = n..*totalSum\n",
    "  U = dec$u; S = diag(dec$d); V = dec$v#t(U)U = t(V)V = I (matriz identidade)\n",
    "  rownames(U) = rownames(distFrequencia)\n",
    "  rownames(V) = colnames(distFrequencia)\n",
    "  minDim = min(dim(distFrequencia))\n",
    "  colnames(U) = paste(\"Concept\", 1:minDim, sep=\"_\")\n",
    "  colnames(V) = paste(\"Concept\", 1:minDim, sep=\"_\")\n",
    "  # View(U);View(V);\n",
    "  k=2#number of components/concepts/eigenvectors to considerer\n",
    "  Uk = U[,1:k]#the representation of the terms in the k-dimensional space\n",
    "  Sk = S[1:k, 1:k]#the strength of the components\n",
    "  Vk = V[, 1:k]#the representation of the documents in the k-dimensional space (easy to store for query search)\n",
    "  # View(Uk); View(Vk)\n",
    "\n",
    "  # PLOTING\n",
    "  # concept space of documents\n",
    "  library(ggplot2)\n",
    "  # concept space of terms and documents\n",
    "  termsLabels = rownames(Uk)\n",
    "  docsLabels = rownames(Vk)\n",
    "  df = data.frame(  Concept_1 = c(Uk[,1], Vk[,1])\n",
    "                    , Concept_2 = c(Uk[,2], Vk[,2])\n",
    "                    , type = c(  rep(\"Desfecho\", nrow(distFrequencia))\n",
    "                                 , rep(\"Dose\", ncol(distFrequencia)))\n",
    "                    , label = c(termsLabels, docsLabels))\n",
    "  rownames(df)\n",
    "  # View(df)\n",
    "  gg =\n",
    "  ggplot(data= df, aes(x=Concept_1, y=Concept_2, colour = type)) +\n",
    "    xlab(paste(\"Concept 1 (\", round(100*eigenvalues[1], 1), \"%)\", sep=\"\")) +\n",
    "    ylab(paste(\"Concept 2 (\", round(100*eigenvalues[2], 1), \"%)\", sep=\"\")) +\n",
    "    geom_point(show.legend = FALSE)+\n",
    "    directlabels::geom_dl(aes(label = label), method = \"smart.grid\")\n",
    "  # ggsave(gg)\n",
    "  print(gg)\n",
    "\n",
    "  ret = list(residuals = residuals\n",
    "             , PearsonChisquaredStatistic = PearsonChisquaredStatistic\n",
    "             , n.. = n.., PO = PO, PE = PE\n",
    "             , pi. = pi., p.j = p.j, eigenvalues = eigenvalues\n",
    "             , eigenvectors = list(U = U, V = V))\n",
    "  return(ret)\n",
    "\n",
    "# apqv = associationPlot_qualitativeVariables(distFrequencia)\n",
    "# apqv$residuals\n",
    "# apqv$PearsonChisquaredStatistic\n",
    "# apqv$eigenvalues\n",
    "\n",
    "#2º caso\n",
    "# distFrequencia2 =\n",
    "#   matrix(data =c( 50, 3, 2, 0\n",
    "#                 , 1,  6, 10, 50\n",
    "#                 , 2,  1, 50, 90)\n",
    "#          , nrow = 3, byrow = TRUE\n",
    "#          , dimnames =\n",
    "#            list(c(\"Sem sintomas\", \"Mal-estar\", \"Aborto\")\n",
    "#                 , c(\"0 mg de Y\", \"50 mg de Y\", \"100 mg de Y\", \"500 mg de Y\")))\n",
    "# View(distFrequencia2)\n",
    "# associationPlot_qualitativeVariables(distFrequencia2)\n",
    "\n"
   ]
  }
 ],
 "metadata": {
  "kernelspec": {
   "display_name": "Python 3.10.6 64-bit",
   "language": "python",
   "name": "python3"
  },
  "language_info": {
   "codemirror_mode": {
    "name": "ipython",
    "version": 3
   },
   "file_extension": ".py",
   "mimetype": "text/x-python",
   "name": "python",
   "nbconvert_exporter": "python",
   "pygments_lexer": "ipython3",
   "version": "3.11.3"
  },
  "orig_nbformat": 4,
  "vscode": {
   "interpreter": {
    "hash": "26de051ba29f2982a8de78e945f0abaf191376122a1563185a90213a26c5da77"
   }
  }
 },
 "nbformat": 4,
 "nbformat_minor": 2
}
